{
 "cells": [
  {
   "cell_type": "code",
   "execution_count": 3,
   "id": "a03e4216-6b5b-46c3-8565-b5c69bd94e2e",
   "metadata": {},
   "outputs": [],
   "source": [
    "def get_inverse(x):\n",
    "    try:\n",
    "        return 1/x\n",
    "    except ZeroDivisionError:\n",
    "        return None\n",
    "    finally:\n",
    "        print('I am always printed!')"
   ]
  },
  {
   "cell_type": "code",
   "execution_count": 7,
   "id": "b383d58f-71dc-4294-9ca4-2471d819858c",
   "metadata": {},
   "outputs": [
    {
     "name": "stdout",
     "output_type": "stream",
     "text": [
      "I am always printed!\n",
      "0.2\n"
     ]
    }
   ],
   "source": [
    "print(get_inverse(5))"
   ]
  },
  {
   "cell_type": "code",
   "execution_count": 9,
   "id": "afee957e-a6d6-4140-9fd5-7fa6f9bcf8a7",
   "metadata": {},
   "outputs": [
    {
     "name": "stdout",
     "output_type": "stream",
     "text": [
      "I am always printed!\n",
      "None\n"
     ]
    }
   ],
   "source": [
    "print(get_inverse(0))"
   ]
  },
  {
   "cell_type": "code",
   "execution_count": null,
   "id": "ba0adcd3-8760-421a-8d73-1289acbc9734",
   "metadata": {},
   "outputs": [],
   "source": []
  }
 ],
 "metadata": {
  "kernelspec": {
   "display_name": "Python 3 (ipykernel)",
   "language": "python",
   "name": "python3"
  },
  "language_info": {
   "codemirror_mode": {
    "name": "ipython",
    "version": 3
   },
   "file_extension": ".py",
   "mimetype": "text/x-python",
   "name": "python",
   "nbconvert_exporter": "python",
   "pygments_lexer": "ipython3",
   "version": "3.12.4"
  }
 },
 "nbformat": 4,
 "nbformat_minor": 5
}
