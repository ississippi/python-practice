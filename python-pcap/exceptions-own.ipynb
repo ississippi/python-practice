{
 "cells": [
  {
   "cell_type": "code",
   "execution_count": 1,
   "id": "81ddc695-e4c8-4346-920c-427b88baa4d6",
   "metadata": {},
   "outputs": [],
   "source": [
    "class AnimalValueError(ValueError):\n",
    "    pass\n",
    "\n",
    "def produce_animal_sound(animal_type):\n",
    "    if animal_type == 'DOG':\n",
    "        print('Woof, woof!')\n",
    "    elif animal_type == 'Cat':\n",
    "        print('Meow!')\n",
    "    else:\n",
    "        raise AnimalValueError('Incorrect animal type!')"
   ]
  },
  {
   "cell_type": "code",
   "execution_count": 3,
   "id": "6018ba19-1dc3-4bda-832b-7a7edbf6e8dd",
   "metadata": {},
   "outputs": [
    {
     "name": "stdout",
     "output_type": "stream",
     "text": [
      "Woof, woof!\n"
     ]
    }
   ],
   "source": [
    "produce_animal_sound('DOG')"
   ]
  },
  {
   "cell_type": "code",
   "execution_count": 5,
   "id": "07aefbbb-5890-4a66-aa7b-00df548eaa06",
   "metadata": {},
   "outputs": [
    {
     "ename": "AnimalValueError",
     "evalue": "Incorrect animal type!",
     "output_type": "error",
     "traceback": [
      "\u001b[1;31m---------------------------------------------------------------------------\u001b[0m",
      "\u001b[1;31mAnimalValueError\u001b[0m                          Traceback (most recent call last)",
      "Cell \u001b[1;32mIn[5], line 1\u001b[0m\n\u001b[1;32m----> 1\u001b[0m produce_animal_sound(\u001b[38;5;124m'\u001b[39m\u001b[38;5;124mPIG\u001b[39m\u001b[38;5;124m'\u001b[39m)\n",
      "Cell \u001b[1;32mIn[1], line 10\u001b[0m, in \u001b[0;36mproduce_animal_sound\u001b[1;34m(animal_type)\u001b[0m\n\u001b[0;32m      8\u001b[0m     \u001b[38;5;28mprint\u001b[39m(\u001b[38;5;124m'\u001b[39m\u001b[38;5;124mMeow!\u001b[39m\u001b[38;5;124m'\u001b[39m)\n\u001b[0;32m      9\u001b[0m \u001b[38;5;28;01melse\u001b[39;00m:\n\u001b[1;32m---> 10\u001b[0m     \u001b[38;5;28;01mraise\u001b[39;00m AnimalValueError(\u001b[38;5;124m'\u001b[39m\u001b[38;5;124mIncorrect animal type!\u001b[39m\u001b[38;5;124m'\u001b[39m)\n",
      "\u001b[1;31mAnimalValueError\u001b[0m: Incorrect animal type!"
     ]
    }
   ],
   "source": [
    "produce_animal_sound('PIG')"
   ]
  },
  {
   "cell_type": "code",
   "execution_count": null,
   "id": "dbcca2d8-5b8e-4379-bc7a-deb24bd1f7e9",
   "metadata": {},
   "outputs": [],
   "source": []
  }
 ],
 "metadata": {
  "kernelspec": {
   "display_name": "Python 3 (ipykernel)",
   "language": "python",
   "name": "python3"
  },
  "language_info": {
   "codemirror_mode": {
    "name": "ipython",
    "version": 3
   },
   "file_extension": ".py",
   "mimetype": "text/x-python",
   "name": "python",
   "nbconvert_exporter": "python",
   "pygments_lexer": "ipython3",
   "version": "3.12.4"
  }
 },
 "nbformat": 4,
 "nbformat_minor": 5
}
