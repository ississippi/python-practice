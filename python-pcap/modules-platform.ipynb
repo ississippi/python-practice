{
 "cells": [
  {
   "cell_type": "code",
   "execution_count": 2,
   "id": "07257660-3279-41cd-8962-e3a03bd8b83a",
   "metadata": {},
   "outputs": [
    {
     "data": {
      "text/plain": [
       "'Windows-11-10.0.22631-SP0'"
      ]
     },
     "execution_count": 2,
     "metadata": {},
     "output_type": "execute_result"
    }
   ],
   "source": [
    "import platform\n",
    "platform.platform()"
   ]
  },
  {
   "cell_type": "code",
   "execution_count": 4,
   "id": "96131cb3-5653-44e7-b506-6cfb4db1ba8a",
   "metadata": {},
   "outputs": [
    {
     "data": {
      "text/plain": [
       "'Windows-11'"
      ]
     },
     "execution_count": 4,
     "metadata": {},
     "output_type": "execute_result"
    }
   ],
   "source": [
    "platform.platform(True,True)"
   ]
  },
  {
   "cell_type": "code",
   "execution_count": 6,
   "id": "e1d87b98-2c54-429b-8a56-461da346659b",
   "metadata": {},
   "outputs": [
    {
     "data": {
      "text/plain": [
       "'AMD64'"
      ]
     },
     "execution_count": 6,
     "metadata": {},
     "output_type": "execute_result"
    }
   ],
   "source": [
    "platform.machine()"
   ]
  },
  {
   "cell_type": "code",
   "execution_count": 8,
   "id": "f2092250-993c-4d71-b61a-3253627e80d1",
   "metadata": {},
   "outputs": [
    {
     "data": {
      "text/plain": [
       "'Intel64 Family 6 Model 186 Stepping 3, GenuineIntel'"
      ]
     },
     "execution_count": 8,
     "metadata": {},
     "output_type": "execute_result"
    }
   ],
   "source": [
    "platform.processor()"
   ]
  },
  {
   "cell_type": "code",
   "execution_count": 10,
   "id": "d5eaba0e-168f-4322-8024-3139f305781d",
   "metadata": {},
   "outputs": [
    {
     "data": {
      "text/plain": [
       "'Windows'"
      ]
     },
     "execution_count": 10,
     "metadata": {},
     "output_type": "execute_result"
    }
   ],
   "source": [
    "platform.system()"
   ]
  },
  {
   "cell_type": "code",
   "execution_count": 12,
   "id": "8110961d-6b3c-43fe-9732-7041fdef7179",
   "metadata": {},
   "outputs": [
    {
     "data": {
      "text/plain": [
       "'CPython'"
      ]
     },
     "execution_count": 12,
     "metadata": {},
     "output_type": "execute_result"
    }
   ],
   "source": [
    "platform.python_implementation()"
   ]
  },
  {
   "cell_type": "code",
   "execution_count": 14,
   "id": "4867df7f-4bf6-4d2c-baaf-8e4c331147e4",
   "metadata": {},
   "outputs": [
    {
     "data": {
      "text/plain": [
       "('3', '12', '4')"
      ]
     },
     "execution_count": 14,
     "metadata": {},
     "output_type": "execute_result"
    }
   ],
   "source": [
    "platform.python_version_tuple()"
   ]
  },
  {
   "cell_type": "code",
   "execution_count": 16,
   "id": "a4247a82-192e-4f4e-b07c-bc6b18032bfb",
   "metadata": {},
   "outputs": [
    {
     "data": {
      "text/plain": [
       "'10.0.22631'"
      ]
     },
     "execution_count": 16,
     "metadata": {},
     "output_type": "execute_result"
    }
   ],
   "source": [
    "platform.version()"
   ]
  },
  {
   "cell_type": "code",
   "execution_count": null,
   "id": "04dc838e-1198-4f64-8c24-1bc1a5f45faa",
   "metadata": {},
   "outputs": [],
   "source": []
  }
 ],
 "metadata": {
  "kernelspec": {
   "display_name": "Python 3 (ipykernel)",
   "language": "python",
   "name": "python3"
  },
  "language_info": {
   "codemirror_mode": {
    "name": "ipython",
    "version": 3
   },
   "file_extension": ".py",
   "mimetype": "text/x-python",
   "name": "python",
   "nbconvert_exporter": "python",
   "pygments_lexer": "ipython3",
   "version": "3.12.4"
  }
 },
 "nbformat": 4,
 "nbformat_minor": 5
}
