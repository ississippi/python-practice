{
 "cells": [
  {
   "cell_type": "code",
   "execution_count": 2,
   "id": "5fbe768f-bd05-4c01-92c9-2d403243b694",
   "metadata": {},
   "outputs": [
    {
     "data": {
      "text/plain": [
       "True"
      ]
     },
     "execution_count": 2,
     "metadata": {},
     "output_type": "execute_result"
    }
   ],
   "source": [
    "'Python' == 'Python'"
   ]
  },
  {
   "cell_type": "code",
   "execution_count": 4,
   "id": "d838333b-8c27-4835-9505-2e46155c4832",
   "metadata": {},
   "outputs": [
    {
     "data": {
      "text/plain": [
       "False"
      ]
     },
     "execution_count": 4,
     "metadata": {},
     "output_type": "execute_result"
    }
   ],
   "source": [
    "'Python' == 'python'"
   ]
  },
  {
   "cell_type": "code",
   "execution_count": 6,
   "id": "91603205-cfc1-447c-a720-49725fbb532d",
   "metadata": {},
   "outputs": [
    {
     "data": {
      "text/plain": [
       "True"
      ]
     },
     "execution_count": 6,
     "metadata": {},
     "output_type": "execute_result"
    }
   ],
   "source": [
    "'Python' != 'python'"
   ]
  },
  {
   "cell_type": "code",
   "execution_count": 8,
   "id": "e3f01dd0-84dc-4382-8059-9f770b694376",
   "metadata": {},
   "outputs": [
    {
     "data": {
      "text/plain": [
       "False"
      ]
     },
     "execution_count": 8,
     "metadata": {},
     "output_type": "execute_result"
    }
   ],
   "source": [
    "'Python' == 'Pytho'"
   ]
  },
  {
   "cell_type": "code",
   "execution_count": 10,
   "id": "3ee41922-c01e-4b35-b5e3-23b137aec5fc",
   "metadata": {},
   "outputs": [
    {
     "data": {
      "text/plain": [
       "True"
      ]
     },
     "execution_count": 10,
     "metadata": {},
     "output_type": "execute_result"
    }
   ],
   "source": [
    "'I love Python' < 'I love python'"
   ]
  },
  {
   "cell_type": "code",
   "execution_count": 12,
   "id": "33f0131b-e1bf-4f74-ac9a-6b18444951fb",
   "metadata": {},
   "outputs": [
    {
     "data": {
      "text/plain": [
       "True"
      ]
     },
     "execution_count": 12,
     "metadata": {},
     "output_type": "execute_result"
    }
   ],
   "source": [
    "'Pythonist' > 'Python'"
   ]
  },
  {
   "cell_type": "code",
   "execution_count": 14,
   "id": "f18f56ff-e8ec-4832-8fe4-f2b476c5895d",
   "metadata": {},
   "outputs": [
    {
     "data": {
      "text/plain": [
       "False"
      ]
     },
     "execution_count": 14,
     "metadata": {},
     "output_type": "execute_result"
    }
   ],
   "source": [
    "'Pythonist' > 'Z'"
   ]
  },
  {
   "cell_type": "code",
   "execution_count": 16,
   "id": "31d77bab-b98a-443c-83cb-181976b28887",
   "metadata": {},
   "outputs": [
    {
     "data": {
      "text/plain": [
       "False"
      ]
     },
     "execution_count": 16,
     "metadata": {},
     "output_type": "execute_result"
    }
   ],
   "source": [
    "'20' > '8'"
   ]
  },
  {
   "cell_type": "code",
   "execution_count": 18,
   "id": "ec473f6f-a317-4dd0-a261-84fdb4c84fb5",
   "metadata": {},
   "outputs": [
    {
     "data": {
      "text/plain": [
       "False"
      ]
     },
     "execution_count": 18,
     "metadata": {},
     "output_type": "execute_result"
    }
   ],
   "source": [
    "10 == '10'"
   ]
  },
  {
   "cell_type": "code",
   "execution_count": 20,
   "id": "4f7f941e-ae33-4ba3-9eff-f1c07f80509f",
   "metadata": {},
   "outputs": [
    {
     "data": {
      "text/plain": [
       "True"
      ]
     },
     "execution_count": 20,
     "metadata": {},
     "output_type": "execute_result"
    }
   ],
   "source": [
    "10 != '10'"
   ]
  },
  {
   "cell_type": "code",
   "execution_count": null,
   "id": "49b5a9d4-1876-4fbb-b278-c6b837cfc554",
   "metadata": {},
   "outputs": [],
   "source": []
  }
 ],
 "metadata": {
  "kernelspec": {
   "display_name": "Python 3 (ipykernel)",
   "language": "python",
   "name": "python3"
  },
  "language_info": {
   "codemirror_mode": {
    "name": "ipython",
    "version": 3
   },
   "file_extension": ".py",
   "mimetype": "text/x-python",
   "name": "python",
   "nbconvert_exporter": "python",
   "pygments_lexer": "ipython3",
   "version": "3.12.4"
  }
 },
 "nbformat": 4,
 "nbformat_minor": 5
}
