{
 "cells": [
  {
   "cell_type": "code",
   "execution_count": 1,
   "id": "ac462de5-7aa4-4314-bc07-1e4c24f7194e",
   "metadata": {},
   "outputs": [
    {
     "data": {
      "text/plain": [
       "7"
      ]
     },
     "execution_count": 1,
     "metadata": {},
     "output_type": "execute_result"
    }
   ],
   "source": [
    "'ilovetravellingaroundtheworld'.index('a')"
   ]
  },
  {
   "cell_type": "code",
   "execution_count": 3,
   "id": "20765409-90c4-4948-bb6f-92d43a274001",
   "metadata": {},
   "outputs": [
    {
     "data": {
      "text/plain": [
       "7"
      ]
     },
     "execution_count": 3,
     "metadata": {},
     "output_type": "execute_result"
    }
   ],
   "source": [
    "'ilovetravellingaroundtheworld'.find('a')"
   ]
  },
  {
   "cell_type": "code",
   "execution_count": 7,
   "id": "8125eaca-5921-4ce5-8d59-b511c3a3f4f4",
   "metadata": {},
   "outputs": [
    {
     "data": {
      "text/plain": [
       "-1"
      ]
     },
     "execution_count": 7,
     "metadata": {},
     "output_type": "execute_result"
    }
   ],
   "source": [
    "'ilovetravellingaroundtheworld'.find('z')"
   ]
  },
  {
   "cell_type": "code",
   "execution_count": 15,
   "id": "bd76660f-f2da-46c3-904e-b8be1e28c8e3",
   "metadata": {},
   "outputs": [
    {
     "name": "stdout",
     "output_type": "stream",
     "text": [
      "-1\n"
     ]
    }
   ],
   "source": [
    "my_text = 'This is my sample string'\n",
    "#print(my_text.index('are'))\n",
    "print(my_text.find('are'))"
   ]
  },
  {
   "cell_type": "code",
   "execution_count": 17,
   "id": "04f257ca-42fe-4115-bfb3-bd303c3ccf31",
   "metadata": {},
   "outputs": [
    {
     "data": {
      "text/plain": [
       "-1"
      ]
     },
     "execution_count": 17,
     "metadata": {},
     "output_type": "execute_result"
    }
   ],
   "source": [
    "my_text = 'This is my sample string'\n",
    "my_text.find('is',10)"
   ]
  },
  {
   "cell_type": "code",
   "execution_count": 19,
   "id": "6d09a620-b7c4-4f1c-9854-e5b27d46805b",
   "metadata": {},
   "outputs": [
    {
     "data": {
      "text/plain": [
       "-1"
      ]
     },
     "execution_count": 19,
     "metadata": {},
     "output_type": "execute_result"
    }
   ],
   "source": [
    "my_text = 'This is my sample string'\n",
    "my_text.find('is', 10, 15)"
   ]
  },
  {
   "cell_type": "code",
   "execution_count": 21,
   "id": "b55b3ca2-71ff-47cc-a8a1-fd2b98e6e092",
   "metadata": {},
   "outputs": [
    {
     "data": {
      "text/plain": [
       "-1"
      ]
     },
     "execution_count": 21,
     "metadata": {},
     "output_type": "execute_result"
    }
   ],
   "source": [
    "my_text = 'This is my sample string'\n",
    "my_text.rfind('work')"
   ]
  },
  {
   "cell_type": "code",
   "execution_count": 31,
   "id": "a1730803-6cb8-4aba-bdde-e34da79727b6",
   "metadata": {},
   "outputs": [
    {
     "name": "stdout",
     "output_type": "stream",
     "text": [
      "0\n",
      "10\n",
      "5\n",
      "10\n",
      "-1\n",
      "-1\n"
     ]
    }
   ],
   "source": [
    "print('work work work'.find('work'))\n",
    "print('work work work'.rfind('work'))\n",
    "print('work work work'.find('work',2))\n",
    "print('work work work'.rfind('work',2))\n",
    "print('work work work'.find('work',2, 5))\n",
    "print('work work work'.rfind('work',2, 5))"
   ]
  },
  {
   "cell_type": "code",
   "execution_count": 33,
   "id": "a93acd52-1571-4817-ade0-baa939fc8868",
   "metadata": {},
   "outputs": [
    {
     "data": {
      "text/plain": [
       "True"
      ]
     },
     "execution_count": 33,
     "metadata": {},
     "output_type": "execute_result"
    }
   ],
   "source": [
    "'Gary'.isalnum()"
   ]
  },
  {
   "cell_type": "code",
   "execution_count": 35,
   "id": "3601dad0-8ea2-4271-85f1-58a826feec0f",
   "metadata": {},
   "outputs": [
    {
     "data": {
      "text/plain": [
       "True"
      ]
     },
     "execution_count": 35,
     "metadata": {},
     "output_type": "execute_result"
    }
   ],
   "source": [
    "'Gary30'.isalnum()"
   ]
  },
  {
   "cell_type": "code",
   "execution_count": 37,
   "id": "6d5888fe-e8c9-4338-bf0e-feb4171ca750",
   "metadata": {},
   "outputs": [
    {
     "data": {
      "text/plain": [
       "False"
      ]
     },
     "execution_count": 37,
     "metadata": {},
     "output_type": "execute_result"
    }
   ],
   "source": [
    "'Gary 30'.isalnum()"
   ]
  },
  {
   "cell_type": "code",
   "execution_count": 39,
   "id": "fae3e3a2-7a61-4689-85b5-3ae85c1b0714",
   "metadata": {},
   "outputs": [
    {
     "data": {
      "text/plain": [
       "True"
      ]
     },
     "execution_count": 39,
     "metadata": {},
     "output_type": "execute_result"
    }
   ],
   "source": [
    "'Gary'.isalpha()"
   ]
  },
  {
   "cell_type": "code",
   "execution_count": 41,
   "id": "cf5c4c29-b3af-458c-83e7-883f1bc4e41c",
   "metadata": {},
   "outputs": [
    {
     "data": {
      "text/plain": [
       "False"
      ]
     },
     "execution_count": 41,
     "metadata": {},
     "output_type": "execute_result"
    }
   ],
   "source": [
    "'Gary'.isdigit()"
   ]
  },
  {
   "cell_type": "code",
   "execution_count": null,
   "id": "5833fc51-ddb8-498a-af75-91e0e5e57748",
   "metadata": {},
   "outputs": [],
   "source": [
    "# isLower()\n",
    "# isUpper()\n",
    "# isSpace() # matches on \\n too."
   ]
  }
 ],
 "metadata": {
  "kernelspec": {
   "display_name": "Python 3 (ipykernel)",
   "language": "python",
   "name": "python3"
  },
  "language_info": {
   "codemirror_mode": {
    "name": "ipython",
    "version": 3
   },
   "file_extension": ".py",
   "mimetype": "text/x-python",
   "name": "python",
   "nbconvert_exporter": "python",
   "pygments_lexer": "ipython3",
   "version": "3.12.4"
  }
 },
 "nbformat": 4,
 "nbformat_minor": 5
}
