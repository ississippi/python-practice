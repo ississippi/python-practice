{
 "cells": [
  {
   "cell_type": "code",
   "execution_count": 2,
   "id": "c94a0c0d-0bac-4cf4-a194-48d7815c6105",
   "metadata": {},
   "outputs": [
    {
     "data": {
      "text/plain": [
       "9"
      ]
     },
     "execution_count": 2,
     "metadata": {},
     "output_type": "execute_result"
    }
   ],
   "source": [
    "len('hi there!')"
   ]
  },
  {
   "cell_type": "code",
   "execution_count": 4,
   "id": "f852708a-04bc-4c2b-9bf5-746e18934cb3",
   "metadata": {},
   "outputs": [
    {
     "data": {
      "text/plain": [
       "0"
      ]
     },
     "execution_count": 4,
     "metadata": {},
     "output_type": "execute_result"
    }
   ],
   "source": [
    "len('')"
   ]
  },
  {
   "cell_type": "code",
   "execution_count": 6,
   "id": "2b9c2267-64d4-45cc-8af6-01edbac3a099",
   "metadata": {},
   "outputs": [
    {
     "name": "stdout",
     "output_type": "stream",
     "text": [
      "i there!\n"
     ]
    }
   ],
   "source": [
    "print('hi there!'[1:])"
   ]
  },
  {
   "cell_type": "code",
   "execution_count": 8,
   "id": "f4c49bc3-6b63-4f10-a47f-0bb4be0d754b",
   "metadata": {},
   "outputs": [
    {
     "name": "stdout",
     "output_type": "stream",
     "text": [
      "hi th\n"
     ]
    }
   ],
   "source": [
    "print('hi there!'[:5])"
   ]
  },
  {
   "cell_type": "code",
   "execution_count": 10,
   "id": "93992824-d924-4961-83bb-bde797faee4b",
   "metadata": {},
   "outputs": [
    {
     "name": "stdout",
     "output_type": "stream",
     "text": [
      "the\n"
     ]
    }
   ],
   "source": [
    "print('hi there!'[3:6])"
   ]
  },
  {
   "cell_type": "code",
   "execution_count": 12,
   "id": "5c71d13f-06f1-4a90-963a-bf302dade443",
   "metadata": {},
   "outputs": [
    {
     "name": "stdout",
     "output_type": "stream",
     "text": [
      "I'm Adrian\n"
     ]
    }
   ],
   "source": [
    "print('I\\'m Adrian')"
   ]
  },
  {
   "cell_type": "code",
   "execution_count": 16,
   "id": "da08df9f-ff30-48a3-879b-cf87b2f6f354",
   "metadata": {},
   "outputs": [
    {
     "data": {
      "text/plain": [
       "65"
      ]
     },
     "execution_count": 16,
     "metadata": {},
     "output_type": "execute_result"
    }
   ],
   "source": [
    "ord('A')"
   ]
  },
  {
   "cell_type": "code",
   "execution_count": 24,
   "id": "e31d5084-acf1-4ffa-8651-566ec42a924e",
   "metadata": {},
   "outputs": [
    {
     "data": {
      "text/plain": [
       "'\\x80'"
      ]
     },
     "execution_count": 24,
     "metadata": {},
     "output_type": "execute_result"
    }
   ],
   "source": [
    "chr(128)"
   ]
  },
  {
   "cell_type": "code",
   "execution_count": 20,
   "id": "7fddee14-4f27-4a9e-b004-e47bd90de019",
   "metadata": {},
   "outputs": [],
   "source": [
    "test_string = '''Line 1\n",
    "Line 2'''"
   ]
  },
  {
   "cell_type": "code",
   "execution_count": 26,
   "id": "69282bf1-f908-4fe1-b501-d92b919ce803",
   "metadata": {},
   "outputs": [
    {
     "data": {
      "text/plain": [
       "13"
      ]
     },
     "execution_count": 26,
     "metadata": {},
     "output_type": "execute_result"
    }
   ],
   "source": [
    "len(test_string)"
   ]
  },
  {
   "cell_type": "code",
   "execution_count": 28,
   "id": "66d4e844-71a0-4824-bac0-87353f7e5500",
   "metadata": {},
   "outputs": [
    {
     "data": {
      "text/plain": [
       "'aaabbb'"
      ]
     },
     "execution_count": 28,
     "metadata": {},
     "output_type": "execute_result"
    }
   ],
   "source": [
    "'aaa' + 'bbb'"
   ]
  },
  {
   "cell_type": "code",
   "execution_count": 30,
   "id": "4aae3286-e60e-45d1-81ab-70fac4edf3ad",
   "metadata": {},
   "outputs": [
    {
     "data": {
      "text/plain": [
       "'cccccc'"
      ]
     },
     "execution_count": 30,
     "metadata": {},
     "output_type": "execute_result"
    }
   ],
   "source": [
    "2 * 'ccc'"
   ]
  },
  {
   "cell_type": "code",
   "execution_count": 32,
   "id": "10a10ee8-bac7-4b3d-bc09-3b3ebeee2dd8",
   "metadata": {},
   "outputs": [
    {
     "name": "stdout",
     "output_type": "stream",
     "text": [
      "h-e-l-l-o- -f-r-o-m- -t-h-e- -w-o-r-l-d- -o-f- -P-y-t-h-o-n-"
     ]
    }
   ],
   "source": [
    "for char in 'hello from the world of Python':\n",
    "    print(char,end='-')"
   ]
  },
  {
   "cell_type": "code",
   "execution_count": 34,
   "id": "d5ba5213-e7c8-408f-9468-b868913471c1",
   "metadata": {},
   "outputs": [
    {
     "ename": "TypeError",
     "evalue": "'str' object doesn't support item deletion",
     "output_type": "error",
     "traceback": [
      "\u001b[1;31m---------------------------------------------------------------------------\u001b[0m",
      "\u001b[1;31mTypeError\u001b[0m                                 Traceback (most recent call last)",
      "Cell \u001b[1;32mIn[34], line 2\u001b[0m\n\u001b[0;32m      1\u001b[0m text \u001b[38;5;241m=\u001b[39m \u001b[38;5;124m'\u001b[39m\u001b[38;5;124mdHello there!\u001b[39m\u001b[38;5;124m'\u001b[39m\n\u001b[1;32m----> 2\u001b[0m \u001b[38;5;28;01mdel\u001b[39;00m text[\u001b[38;5;241m0\u001b[39m]\n",
      "\u001b[1;31mTypeError\u001b[0m: 'str' object doesn't support item deletion"
     ]
    }
   ],
   "source": [
    "text = 'dHello there!'\n",
    "del text[0]"
   ]
  },
  {
   "cell_type": "code",
   "execution_count": 36,
   "id": "52bd38c3-bc0e-496f-8719-f2c16fe54d37",
   "metadata": {},
   "outputs": [
    {
     "data": {
      "text/plain": [
       "'a'"
      ]
     },
     "execution_count": 36,
     "metadata": {},
     "output_type": "execute_result"
    }
   ],
   "source": [
    "min('ilovetravellingaroundtheworld')"
   ]
  },
  {
   "cell_type": "code",
   "execution_count": 38,
   "id": "e693defe-1ee5-4260-8238-5d87f83df371",
   "metadata": {},
   "outputs": [
    {
     "data": {
      "text/plain": [
       "' '"
      ]
     },
     "execution_count": 38,
     "metadata": {},
     "output_type": "execute_result"
    }
   ],
   "source": [
    "min('ilove travelling aroundtheworld')"
   ]
  },
  {
   "cell_type": "code",
   "execution_count": 40,
   "id": "8f6b60a7-c2ab-4b92-b2dc-be5c67397c74",
   "metadata": {},
   "outputs": [
    {
     "data": {
      "text/plain": [
       "'w'"
      ]
     },
     "execution_count": 40,
     "metadata": {},
     "output_type": "execute_result"
    }
   ],
   "source": [
    "max('ilovetravellingaroundtheworld')"
   ]
  },
  {
   "cell_type": "code",
   "execution_count": null,
   "id": "e6a196b9-2f96-47ad-953e-18024b8d682f",
   "metadata": {},
   "outputs": [],
   "source": []
  }
 ],
 "metadata": {
  "kernelspec": {
   "display_name": "Python 3 (ipykernel)",
   "language": "python",
   "name": "python3"
  },
  "language_info": {
   "codemirror_mode": {
    "name": "ipython",
    "version": 3
   },
   "file_extension": ".py",
   "mimetype": "text/x-python",
   "name": "python",
   "nbconvert_exporter": "python",
   "pygments_lexer": "ipython3",
   "version": "3.12.4"
  }
 },
 "nbformat": 4,
 "nbformat_minor": 5
}
