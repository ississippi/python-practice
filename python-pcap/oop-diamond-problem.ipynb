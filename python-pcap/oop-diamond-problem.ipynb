{
 "cells": [
  {
   "cell_type": "code",
   "execution_count": 7,
   "id": "63ce8b9e-6085-487a-ac6e-1b6099c03714",
   "metadata": {},
   "outputs": [],
   "source": [
    "class Vehicle():\n",
    "    def show_power_type():\n",
    "        print('I can use power from various sources')\n",
    "\n",
    "class ElectricVehicle(Vehicle):\n",
    "    def show_power_type(self):\n",
    "        print('I can use power from electricity')\n",
    "\n",
    "class PetrolVehicle(Vehicle):\n",
    "    def show_power_type(self):\n",
    "        print('I can use power from petrol')\n",
    "\n",
    "class HybridCar(ElectricVehicle, PetrolVehicle):\n",
    "    pass\n"
   ]
  },
  {
   "cell_type": "code",
   "execution_count": 9,
   "id": "40524213-2249-4762-8d5f-c1843701a7d5",
   "metadata": {},
   "outputs": [
    {
     "name": "stdout",
     "output_type": "stream",
     "text": [
      "I can use power from electricity\n"
     ]
    }
   ],
   "source": [
    "my_toyota_yaris = HybridCar()\n",
    "my_toyota_yaris.show_power_type()"
   ]
  },
  {
   "cell_type": "code",
   "execution_count": null,
   "id": "ee395621-b058-4f2f-90fc-a6e5163c00bd",
   "metadata": {},
   "outputs": [],
   "source": []
  }
 ],
 "metadata": {
  "kernelspec": {
   "display_name": "Python 3 (ipykernel)",
   "language": "python",
   "name": "python3"
  },
  "language_info": {
   "codemirror_mode": {
    "name": "ipython",
    "version": 3
   },
   "file_extension": ".py",
   "mimetype": "text/x-python",
   "name": "python",
   "nbconvert_exporter": "python",
   "pygments_lexer": "ipython3",
   "version": "3.12.4"
  }
 },
 "nbformat": 4,
 "nbformat_minor": 5
}
