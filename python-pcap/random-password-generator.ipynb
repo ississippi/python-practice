{
 "cells": [
  {
   "cell_type": "code",
   "execution_count": 183,
   "id": "29a57b9b-c402-42d8-b956-9096dbcbb229",
   "metadata": {},
   "outputs": [],
   "source": [
    "letters = 'abcdefghijklmnopqrstuvwxyz'\n",
    "letters_gen = []\n",
    "for letter in letters:\n",
    "    letters_gen.append(letter)"
   ]
  },
  {
   "cell_type": "code",
   "execution_count": 185,
   "id": "aea2cf5d-6bf8-43b6-95b1-6923f1cb9e47",
   "metadata": {},
   "outputs": [],
   "source": [
    "digits = ['0','1','2','3','4','5','6','7','8','9']\n",
    "special = ['!','@','#','$','%','&','*','^','|','(',')','_','+']"
   ]
  },
  {
   "cell_type": "code",
   "execution_count": 187,
   "id": "a49aa9e5-74fb-4252-a3ed-83dfe0d04f79",
   "metadata": {},
   "outputs": [],
   "source": [
    "import random\n",
    "\n",
    "def join_lists(list1, list2):\n",
    "    new_list = []\n",
    "    #print('list1:', list1)\n",
    "    #print('list2:', list2)\n",
    "    for a in list1:\n",
    "        new_list.append(a)\n",
    "    for a in list2:\n",
    "        new_list.append(a)\n",
    "    #print('new_list:', new_list)\n",
    "    return new_list\n",
    "\n",
    "def generate_password():\n",
    "    while True:\n",
    "        print('-- Password generator --')\n",
    "        print('Choose option:')\n",
    "        print('1: generate password')\n",
    "        print('2: exit the program')\n",
    "        user_input = int(input())\n",
    "        print('Your choice:', int(user_input))\n",
    "        if user_input == 2:\n",
    "            print('Bye!')\n",
    "            return\n",
    "        elif user_input == 1:\n",
    "            break\n",
    "        else:\n",
    "            print('Please enter a correct value')\n",
    "            continue\n",
    "    while True:\n",
    "        password_len_input = input('Provide password length:')\n",
    "        if password_len_input.isdigit() and int(password_len_input) > 5:\n",
    "            password_len = int(password_len_input)\n",
    "            break\n",
    "        print('Try again - must be a numeric value of 5 or greater.')\n",
    "\n",
    "    while True:        \n",
    "        upperYN = input('Use uppercase letters? (y/n):')\n",
    "        if upperYN.lower() != 'y' and upperYN.lower() != 'n':\n",
    "            print('You must enter \\'y\\' or \\'n\\' only!')\n",
    "            continue;\n",
    "        break;\n",
    "\n",
    "    while True:        \n",
    "        digitsYN = input('Use digits? (y/n):')\n",
    "        if digitsYN.lower() != 'y' and digitsYN.lower() != 'n':\n",
    "            print('You must enter \\'y\\' or \\'n\\' only!')\n",
    "            continue;\n",
    "        break;\n",
    "\n",
    "    while True:        \n",
    "        specialYN = input('Use special characters? (y/n):')\n",
    "        if upperYN.lower() != 'y' and upperYN.lower() != 'n':\n",
    "            print('You must enter \\'y\\' or \\'n\\' only!')\n",
    "            continue;\n",
    "        break;\n",
    "\n",
    "    password_characters = letters_gen\n",
    "    if digitsYN == 'y':\n",
    "        password_characters = join_lists(password_characters, digits)\n",
    "    if specialYN == 'y':\n",
    "        password_characters = join_lists(password_characters, special)\n",
    "    new_password = ''\n",
    "    for c in range(password_len):\n",
    "        pchar = random.choice(password_characters)\n",
    "        if pchar.isalpha() and upperYN == 'y':\n",
    "            if random.randint(0,1) == 1:\n",
    "                pchar = pchar.upper()\n",
    "        new_password += pchar\n",
    "    print('Generated password: ' + new_password)"
   ]
  },
  {
   "cell_type": "code",
   "execution_count": 193,
   "id": "d9aabe68-713a-4fb7-ab6b-8e1bc49b62a1",
   "metadata": {},
   "outputs": [
    {
     "name": "stdout",
     "output_type": "stream",
     "text": [
      "-- Password generator --\n",
      "Choose option:\n",
      "1: generate password\n",
      "2: exit the program\n"
     ]
    },
    {
     "name": "stdin",
     "output_type": "stream",
     "text": [
      " 1\n"
     ]
    },
    {
     "name": "stdout",
     "output_type": "stream",
     "text": [
      "Your choice: 1\n"
     ]
    },
    {
     "name": "stdin",
     "output_type": "stream",
     "text": [
      "Provide password length: 13\n",
      "Use uppercase letters? (y/n): n\n",
      "Use digits? (y/n): n\n",
      "Use special characters? (y/n): n\n"
     ]
    },
    {
     "name": "stdout",
     "output_type": "stream",
     "text": [
      "Generated password: qkxchvvmwxqzb\n"
     ]
    }
   ],
   "source": [
    "generate_password()"
   ]
  },
  {
   "cell_type": "code",
   "execution_count": null,
   "id": "dd5ec134-2c6d-4250-886f-f100cc2bb88b",
   "metadata": {},
   "outputs": [],
   "source": []
  }
 ],
 "metadata": {
  "kernelspec": {
   "display_name": "Python 3 (ipykernel)",
   "language": "python",
   "name": "python3"
  },
  "language_info": {
   "codemirror_mode": {
    "name": "ipython",
    "version": 3
   },
   "file_extension": ".py",
   "mimetype": "text/x-python",
   "name": "python",
   "nbconvert_exporter": "python",
   "pygments_lexer": "ipython3",
   "version": "3.12.4"
  }
 },
 "nbformat": 4,
 "nbformat_minor": 5
}
