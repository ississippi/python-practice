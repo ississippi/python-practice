{
 "cells": [
  {
   "cell_type": "code",
   "execution_count": 7,
   "id": "60db5f10-b441-4b09-b685-c46886aed6f0",
   "metadata": {},
   "outputs": [],
   "source": [
    "class Vehicle:\n",
    "    class_message = 'This is a message from the Vehicle class!'\n",
    "    def __init__(self,speed):\n",
    "        self.speed = speed\n",
    "        \n",
    "class LandVehicle(Vehicle):\n",
    "    def __init__(self, speed, wheel_count):\n",
    "        #Vehicle.__init__(self, speed)\n",
    "        super().__init__(speed) # super() eliminates the requirement for the self parameter\n",
    "        self.wheel_count = wheel_count\n",
    "\n",
    "class Car(LandVehicle):\n",
    "    pass"
   ]
  },
  {
   "cell_type": "code",
   "execution_count": 9,
   "id": "f143f5ca-4f9b-44ae-bd74-70a7061aeb85",
   "metadata": {},
   "outputs": [],
   "source": [
    "my_vehicle = Vehicle(50)\n",
    "my_land_vehicle = LandVehicle(50, 4)\n",
    "my_car = Car(50, 4)"
   ]
  },
  {
   "cell_type": "code",
   "execution_count": 11,
   "id": "910161d6-4cdd-4c57-968d-8a0473d7c6e7",
   "metadata": {},
   "outputs": [
    {
     "name": "stdout",
     "output_type": "stream",
     "text": [
      "True\n",
      "True\n",
      "True\n"
     ]
    }
   ],
   "source": [
    "print(isinstance(my_vehicle, Vehicle))\n",
    "print(isinstance(my_land_vehicle, Vehicle))\n",
    "print(isinstance(my_car, Vehicle))"
   ]
  },
  {
   "cell_type": "code",
   "execution_count": 13,
   "id": "d8613f29-4cf3-4b03-acbf-47c56a4a400b",
   "metadata": {},
   "outputs": [
    {
     "name": "stdout",
     "output_type": "stream",
     "text": [
      "False\n",
      "True\n",
      "True\n"
     ]
    }
   ],
   "source": [
    "print(isinstance(my_vehicle, LandVehicle))\n",
    "print(isinstance(my_land_vehicle, LandVehicle))\n",
    "print(isinstance(my_car, LandVehicle))"
   ]
  },
  {
   "cell_type": "code",
   "execution_count": 15,
   "id": "f9839a77-4224-495b-8e70-32672652a170",
   "metadata": {},
   "outputs": [],
   "source": [
    "my_vehicle = Vehicle(60)\n",
    "my_new_vehicle = my_vehicle"
   ]
  },
  {
   "cell_type": "code",
   "execution_count": 17,
   "id": "0776e00a-68fa-4470-8ae8-db3aaf49b034",
   "metadata": {},
   "outputs": [
    {
     "name": "stdout",
     "output_type": "stream",
     "text": [
      "True\n"
     ]
    }
   ],
   "source": [
    "print(my_vehicle is my_new_vehicle)"
   ]
  },
  {
   "cell_type": "code",
   "execution_count": 21,
   "id": "441b2194-c97a-466c-bca4-9836d2d4c7ae",
   "metadata": {},
   "outputs": [
    {
     "name": "stdout",
     "output_type": "stream",
     "text": [
      "{'speed': 60} {'speed': 60}\n",
      "{'speed': 30} {'speed': 30}\n"
     ]
    }
   ],
   "source": [
    "print(my_vehicle.__dict__, my_new_vehicle.__dict__)\n",
    "my_vehicle.speed = 30\n",
    "print(my_vehicle.__dict__, my_new_vehicle.__dict__)\n"
   ]
  },
  {
   "cell_type": "code",
   "execution_count": 27,
   "id": "f871e80a-ac72-4f47-9553-7e2762fa1e52",
   "metadata": {},
   "outputs": [],
   "source": [
    "my_vehicle = Vehicle(60)\n",
    "my_new_vehicle = Vehicle(60)"
   ]
  },
  {
   "cell_type": "code",
   "execution_count": 29,
   "id": "ce376f21-d712-4be7-9bf7-9fc8c8e7df12",
   "metadata": {},
   "outputs": [
    {
     "name": "stdout",
     "output_type": "stream",
     "text": [
      "{'speed': 60} {'speed': 60}\n",
      "{'speed': 30} {'speed': 60}\n"
     ]
    }
   ],
   "source": [
    "print(my_vehicle.__dict__, my_new_vehicle.__dict__)\n",
    "my_vehicle.speed = 30\n",
    "print(my_vehicle.__dict__, my_new_vehicle.__dict__)\n"
   ]
  },
  {
   "cell_type": "code",
   "execution_count": 31,
   "id": "c0504727-15bb-44c6-9480-9b383cf35261",
   "metadata": {},
   "outputs": [
    {
     "name": "stdout",
     "output_type": "stream",
     "text": [
      "True\n"
     ]
    }
   ],
   "source": [
    "first_num = 5\n",
    "second_num = 5\n",
    "print(first_num is second_num)"
   ]
  },
  {
   "cell_type": "code",
   "execution_count": 33,
   "id": "9ee24d88-bd90-41ba-b237-af9cabb243df",
   "metadata": {},
   "outputs": [
    {
     "name": "stdout",
     "output_type": "stream",
     "text": [
      "True\n"
     ]
    }
   ],
   "source": [
    "first_num = 5\n",
    "second_num = 2\n",
    "second_num += 3\n",
    "print(first_num is second_num)"
   ]
  },
  {
   "cell_type": "code",
   "execution_count": 37,
   "id": "58027a02-fa72-4b2f-a785-84e41d58e520",
   "metadata": {},
   "outputs": [
    {
     "name": "stdout",
     "output_type": "stream",
     "text": [
      "True\n"
     ]
    }
   ],
   "source": [
    "first_str = 'hello'\n",
    "second_str = 'hello'\n",
    "print(first_str is second_str)"
   ]
  },
  {
   "cell_type": "code",
   "execution_count": 41,
   "id": "bc42f173-ea04-417b-90a8-7052077b8036",
   "metadata": {},
   "outputs": [
    {
     "name": "stdout",
     "output_type": "stream",
     "text": [
      "False\n",
      "True\n"
     ]
    }
   ],
   "source": [
    "first_str = 'hello'\n",
    "second_str = 'hell'\n",
    "second_str += 'o'\n",
    "print(first_str is second_str)\n",
    "print(first_str == second_str)"
   ]
  },
  {
   "cell_type": "code",
   "execution_count": null,
   "id": "9c2e008a-6a69-4d7a-909a-6b7604478339",
   "metadata": {},
   "outputs": [],
   "source": []
  }
 ],
 "metadata": {
  "kernelspec": {
   "display_name": "Python 3 (ipykernel)",
   "language": "python",
   "name": "python3"
  },
  "language_info": {
   "codemirror_mode": {
    "name": "ipython",
    "version": 3
   },
   "file_extension": ".py",
   "mimetype": "text/x-python",
   "name": "python",
   "nbconvert_exporter": "python",
   "pygments_lexer": "ipython3",
   "version": "3.12.4"
  }
 },
 "nbformat": 4,
 "nbformat_minor": 5
}
