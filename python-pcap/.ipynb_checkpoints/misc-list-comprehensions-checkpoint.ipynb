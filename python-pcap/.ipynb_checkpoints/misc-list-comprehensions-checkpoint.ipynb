{
 "cells": [
  {
   "cell_type": "code",
   "execution_count": 1,
   "id": "23c1600c-137c-4e00-9734-705184b2e620",
   "metadata": {},
   "outputs": [],
   "source": [
    "numbers = []\n",
    "for i in range(1, 101):\n",
    "    numbers.append(i)"
   ]
  },
  {
   "cell_type": "code",
   "execution_count": 3,
   "id": "de576566-e9c8-42f5-9215-cfc2fefb75e2",
   "metadata": {},
   "outputs": [
    {
     "name": "stdout",
     "output_type": "stream",
     "text": [
      "Numbers: [1, 2, 3, 4, 5, 6, 7, 8, 9, 10, 11, 12, 13, 14, 15, 16, 17, 18, 19, 20, 21, 22, 23, 24, 25, 26, 27, 28, 29, 30, 31, 32, 33, 34, 35, 36, 37, 38, 39, 40, 41, 42, 43, 44, 45, 46, 47, 48, 49, 50, 51, 52, 53, 54, 55, 56, 57, 58, 59, 60, 61, 62, 63, 64, 65, 66, 67, 68, 69, 70, 71, 72, 73, 74, 75, 76, 77, 78, 79, 80, 81, 82, 83, 84, 85, 86, 87, 88, 89, 90, 91, 92, 93, 94, 95, 96, 97, 98, 99, 100]\n"
     ]
    }
   ],
   "source": [
    "print('Numbers:', numbers)"
   ]
  },
  {
   "cell_type": "code",
   "execution_count": 5,
   "id": "f021c068-605e-4451-8f7f-002b115bbb18",
   "metadata": {},
   "outputs": [],
   "source": [
    "numbers = [i for i in range(1, 101)]"
   ]
  },
  {
   "cell_type": "code",
   "execution_count": 7,
   "id": "646b7f71-83b2-4e4d-bbef-10014e89778b",
   "metadata": {},
   "outputs": [
    {
     "name": "stdout",
     "output_type": "stream",
     "text": [
      "Numbers: [1, 2, 3, 4, 5, 6, 7, 8, 9, 10, 11, 12, 13, 14, 15, 16, 17, 18, 19, 20, 21, 22, 23, 24, 25, 26, 27, 28, 29, 30, 31, 32, 33, 34, 35, 36, 37, 38, 39, 40, 41, 42, 43, 44, 45, 46, 47, 48, 49, 50, 51, 52, 53, 54, 55, 56, 57, 58, 59, 60, 61, 62, 63, 64, 65, 66, 67, 68, 69, 70, 71, 72, 73, 74, 75, 76, 77, 78, 79, 80, 81, 82, 83, 84, 85, 86, 87, 88, 89, 90, 91, 92, 93, 94, 95, 96, 97, 98, 99, 100]\n"
     ]
    }
   ],
   "source": [
    "print('Numbers:', numbers)"
   ]
  },
  {
   "cell_type": "code",
   "execution_count": 13,
   "id": "18d14dfb-ad57-4a4b-ab7e-9c6c61031d34",
   "metadata": {},
   "outputs": [],
   "source": [
    "numbers = [i for i in range(1, 101) if i % 3 != 0]"
   ]
  },
  {
   "cell_type": "code",
   "execution_count": 15,
   "id": "1c9dec5f-d585-43e2-9d9b-b487c29d929d",
   "metadata": {},
   "outputs": [
    {
     "name": "stdout",
     "output_type": "stream",
     "text": [
      "Numbers: [1, 2, 4, 5, 7, 8, 10, 11, 13, 14, 16, 17, 19, 20, 22, 23, 25, 26, 28, 29, 31, 32, 34, 35, 37, 38, 40, 41, 43, 44, 46, 47, 49, 50, 52, 53, 55, 56, 58, 59, 61, 62, 64, 65, 67, 68, 70, 71, 73, 74, 76, 77, 79, 80, 82, 83, 85, 86, 88, 89, 91, 92, 94, 95, 97, 98, 100]\n"
     ]
    }
   ],
   "source": [
    "print('Numbers:', numbers)"
   ]
  },
  {
   "cell_type": "code",
   "execution_count": 19,
   "id": "f0ee29f1-42bd-47f8-afa7-33022eb3bb4c",
   "metadata": {},
   "outputs": [],
   "source": [
    "numbers = [0 if i % 2 == 0 else 1 for i in range(100)]"
   ]
  },
  {
   "cell_type": "code",
   "execution_count": 21,
   "id": "af90e07f-fe77-4ab3-b0c2-4a2ee4a8d6b8",
   "metadata": {},
   "outputs": [
    {
     "name": "stdout",
     "output_type": "stream",
     "text": [
      "Numbers: [0, 1, 0, 1, 0, 1, 0, 1, 0, 1, 0, 1, 0, 1, 0, 1, 0, 1, 0, 1, 0, 1, 0, 1, 0, 1, 0, 1, 0, 1, 0, 1, 0, 1, 0, 1, 0, 1, 0, 1, 0, 1, 0, 1, 0, 1, 0, 1, 0, 1, 0, 1, 0, 1, 0, 1, 0, 1, 0, 1, 0, 1, 0, 1, 0, 1, 0, 1, 0, 1, 0, 1, 0, 1, 0, 1, 0, 1, 0, 1, 0, 1, 0, 1, 0, 1, 0, 1, 0, 1, 0, 1, 0, 1, 0, 1, 0, 1, 0, 1]\n"
     ]
    }
   ],
   "source": [
    "print('Numbers:', numbers)"
   ]
  },
  {
   "cell_type": "code",
   "execution_count": 29,
   "id": "c3c17ae8-b092-4fca-963f-c78979892bad",
   "metadata": {},
   "outputs": [
    {
     "name": "stdout",
     "output_type": "stream",
     "text": [
      "[[1, 2, 3, 4, 5], [1, 2, 3, 4, 5], [1, 2, 3, 4, 5], [1, 2, 3, 4, 5], [1, 2, 3, 4, 5]]\n"
     ]
    }
   ],
   "source": [
    "# nested list comprehenson\n",
    "\n",
    "table = [[i for i in range(1, 6)] for j in range(5)]\n",
    "print(table)"
   ]
  },
  {
   "cell_type": "code",
   "execution_count": null,
   "id": "f31215b8-c3ae-4ee8-8589-f219d0dc0310",
   "metadata": {},
   "outputs": [],
   "source": []
  }
 ],
 "metadata": {
  "kernelspec": {
   "display_name": "Python 3 (ipykernel)",
   "language": "python",
   "name": "python3"
  },
  "language_info": {
   "codemirror_mode": {
    "name": "ipython",
    "version": 3
   },
   "file_extension": ".py",
   "mimetype": "text/x-python",
   "name": "python",
   "nbconvert_exporter": "python",
   "pygments_lexer": "ipython3",
   "version": "3.12.4"
  }
 },
 "nbformat": 4,
 "nbformat_minor": 5
}
