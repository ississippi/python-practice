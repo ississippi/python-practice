{
 "cells": [
  {
   "cell_type": "code",
   "execution_count": 2,
   "id": "c5188eca-abfc-40e5-9aa5-87e07b6eaf75",
   "metadata": {},
   "outputs": [
    {
     "name": "stdout",
     "output_type": "stream",
     "text": [
      "0.4356678590603281\n",
      "0.566517939812487\n",
      "0.6886247931259878\n"
     ]
    }
   ],
   "source": [
    "import random\n",
    "\n",
    "print(random.random())\n",
    "print(random.random())\n",
    "print(random.random())"
   ]
  },
  {
   "cell_type": "code",
   "execution_count": 4,
   "id": "49f6987e-5d34-41cd-b71d-217684e86ed2",
   "metadata": {},
   "outputs": [
    {
     "name": "stdout",
     "output_type": "stream",
     "text": [
      "0.8444218515250481\n",
      "0.7579544029403025\n",
      "0.420571580830845\n"
     ]
    }
   ],
   "source": [
    "# seed()\n",
    "import random\n",
    "\n",
    "random.seed(0)\n",
    "print(random.random())\n",
    "print(random.random())\n",
    "print(random.random())"
   ]
  },
  {
   "cell_type": "code",
   "execution_count": 6,
   "id": "59119871-e645-4f31-b36f-6816ee669942",
   "metadata": {},
   "outputs": [
    {
     "name": "stdout",
     "output_type": "stream",
     "text": [
      "5\n",
      "John\n"
     ]
    }
   ],
   "source": [
    "# choice()\n",
    "numbers = [1,2,3,4,5,6,7,8,9,10]\n",
    "names = ['Alan', 'Kate','Mary','Jo','John']\n",
    "\n",
    "print(random.choice(numbers))\n",
    "print(random.choice(names))"
   ]
  },
  {
   "cell_type": "code",
   "execution_count": 10,
   "id": "eefb68d7-daf2-4850-b6aa-3a697dc72f6f",
   "metadata": {},
   "outputs": [
    {
     "data": {
      "text/plain": [
       "'e'"
      ]
     },
     "execution_count": 10,
     "metadata": {},
     "output_type": "execute_result"
    }
   ],
   "source": [
    "random.choice('CanYouFeelThePowerOfPython')"
   ]
  },
  {
   "cell_type": "code",
   "execution_count": 14,
   "id": "f65756d1-6b32-4f1f-a47d-fb90d420b8fa",
   "metadata": {},
   "outputs": [
    {
     "name": "stdout",
     "output_type": "stream",
     "text": [
      "10\n",
      "5\n",
      "9\n",
      "10\n",
      "3\n",
      "5\n",
      "2\n",
      "2\n",
      "6\n",
      "8\n"
     ]
    }
   ],
   "source": [
    "# note duplicates are possible\n",
    "numbers = [1,2,3,4,5,6,7,8,9,10]\n",
    "\n",
    "for i in range(10):\n",
    "    print(random.choice(numbers))"
   ]
  },
  {
   "cell_type": "code",
   "execution_count": 20,
   "id": "2147a64b-f1c5-47a5-843b-8aea7f158a62",
   "metadata": {},
   "outputs": [
    {
     "data": {
      "text/plain": [
       "['John', 'Mary', 'Alan', 'Jo', 'Kate']"
      ]
     },
     "execution_count": 20,
     "metadata": {},
     "output_type": "execute_result"
    }
   ],
   "source": [
    "# sample function\n",
    "names = ['Alan', 'Kate','Mary','Jo','John']\n",
    "\n",
    "random.sample(names,3)"
   ]
  },
  {
   "cell_type": "code",
   "execution_count": null,
   "id": "aabeb4d9-8e41-4f3a-92d0-bdea3a11a930",
   "metadata": {},
   "outputs": [],
   "source": []
  }
 ],
 "metadata": {
  "kernelspec": {
   "display_name": "Python 3 (ipykernel)",
   "language": "python",
   "name": "python3"
  },
  "language_info": {
   "codemirror_mode": {
    "name": "ipython",
    "version": 3
   },
   "file_extension": ".py",
   "mimetype": "text/x-python",
   "name": "python",
   "nbconvert_exporter": "python",
   "pygments_lexer": "ipython3",
   "version": "3.12.4"
  }
 },
 "nbformat": 4,
 "nbformat_minor": 5
}
