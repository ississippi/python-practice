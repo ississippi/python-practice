{
 "cells": [
  {
   "cell_type": "code",
   "execution_count": 3,
   "id": "f7ce93fa-a796-4f87-aae5-1e1e869e1eaf",
   "metadata": {},
   "outputs": [],
   "source": [
    "try:\n",
    "    stream = open('newfile.txt', 'w')\n",
    "    stream.write('This is the first message\\n')\n",
    "    stream.write('This is the second message!')\n",
    "    stream.close()\n",
    "\n",
    "except Exception as e:\n",
    "    print('An error occurred: ', e)"
   ]
  },
  {
   "cell_type": "code",
   "execution_count": 5,
   "id": "6749b214-c607-4ab8-b9b0-cdc6ecaad1bb",
   "metadata": {},
   "outputs": [],
   "source": [
    "try:\n",
    "    stream = open('newfile.txt', 'w')\n",
    "    stream.write('This is a brand new message\\n')\n",
    "    stream.close()\n",
    "\n",
    "except Exception as e:\n",
    "    print('An error occurred: ', e)"
   ]
  },
  {
   "cell_type": "code",
   "execution_count": null,
   "id": "9ee9ee08-8df4-4a31-b3f3-43487e70bb64",
   "metadata": {},
   "outputs": [],
   "source": []
  }
 ],
 "metadata": {
  "kernelspec": {
   "display_name": "Python 3 (ipykernel)",
   "language": "python",
   "name": "python3"
  },
  "language_info": {
   "codemirror_mode": {
    "name": "ipython",
    "version": 3
   },
   "file_extension": ".py",
   "mimetype": "text/x-python",
   "name": "python",
   "nbconvert_exporter": "python",
   "pygments_lexer": "ipython3",
   "version": "3.12.4"
  }
 },
 "nbformat": 4,
 "nbformat_minor": 5
}
