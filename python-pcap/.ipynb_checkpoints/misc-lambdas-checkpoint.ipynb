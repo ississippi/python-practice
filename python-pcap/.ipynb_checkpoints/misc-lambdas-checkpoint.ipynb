{
 "cells": [
  {
   "cell_type": "code",
   "execution_count": 7,
   "id": "36c0a8be-48c1-465d-88d0-19fc70d0d66d",
   "metadata": {},
   "outputs": [],
   "source": [
    "def function_name(parameter1, parameter2):\n",
    "    #instruction1\n",
    "    #instruction2\n",
    "    pass"
   ]
  },
  {
   "cell_type": "code",
   "execution_count": 9,
   "id": "921ccbbb-2f41-4ea7-9996-52f5d7116b78",
   "metadata": {},
   "outputs": [
    {
     "ename": "SyntaxError",
     "evalue": "invalid syntax (3249417772.py, line 1)",
     "output_type": "error",
     "traceback": [
      "\u001b[1;36m  Cell \u001b[1;32mIn[9], line 1\u001b[1;36m\u001b[0m\n\u001b[1;33m    lambda parameter1, parameter2: #instruction\u001b[0m\n\u001b[1;37m                                   ^\u001b[0m\n\u001b[1;31mSyntaxError\u001b[0m\u001b[1;31m:\u001b[0m invalid syntax\n"
     ]
    }
   ],
   "source": [
    "lambda parameter1, parameter2: #instruction"
   ]
  },
  {
   "cell_type": "code",
   "execution_count": 11,
   "id": "093012cf-8502-4248-af4b-b3bfbc9db0db",
   "metadata": {},
   "outputs": [],
   "source": [
    "def sum(a, b):\n",
    "    return a + b"
   ]
  },
  {
   "cell_type": "code",
   "execution_count": 13,
   "id": "13aa2871-2e08-4aad-8d88-f77e6bbbe4dd",
   "metadata": {},
   "outputs": [
    {
     "data": {
      "text/plain": [
       "<function __main__.<lambda>(a, b)>"
      ]
     },
     "execution_count": 13,
     "metadata": {},
     "output_type": "execute_result"
    }
   ],
   "source": [
    "lambda a, b: a + b"
   ]
  },
  {
   "cell_type": "code",
   "execution_count": 15,
   "id": "e9a3cbe7-2150-4d94-8647-f33e07fed029",
   "metadata": {},
   "outputs": [
    {
     "data": {
      "text/plain": [
       "8"
      ]
     },
     "execution_count": 15,
     "metadata": {},
     "output_type": "execute_result"
    }
   ],
   "source": [
    "sum(5, 3)"
   ]
  },
  {
   "cell_type": "code",
   "execution_count": 17,
   "id": "3021b3ce-d075-4cdf-8407-473eb18bc9ae",
   "metadata": {},
   "outputs": [],
   "source": [
    "another_sum  = lambda a, b: a + b"
   ]
  },
  {
   "cell_type": "code",
   "execution_count": 19,
   "id": "23b27ae7-d5e3-46a5-b3bc-3a7f1587c7d3",
   "metadata": {},
   "outputs": [
    {
     "data": {
      "text/plain": [
       "8"
      ]
     },
     "execution_count": 19,
     "metadata": {},
     "output_type": "execute_result"
    }
   ],
   "source": [
    "another_sum(5, 3)"
   ]
  },
  {
   "cell_type": "code",
   "execution_count": 21,
   "id": "f319accb-cec0-47c8-9928-2a16bb2d7e85",
   "metadata": {},
   "outputs": [],
   "source": [
    "def apply_func(elements, func):\n",
    "    for element in elements:\n",
    "        print(func(element))"
   ]
  },
  {
   "cell_type": "code",
   "execution_count": 25,
   "id": "b1037613-f381-496a-ad98-0a2a3a214ae5",
   "metadata": {},
   "outputs": [
    {
     "name": "stdout",
     "output_type": "stream",
     "text": [
      "1\n",
      "4\n",
      "9\n",
      "16\n",
      "25\n"
     ]
    }
   ],
   "source": [
    "my_func = lambda x: x * x\n",
    "apply_func([1,2,3,4,5], my_func)"
   ]
  },
  {
   "cell_type": "code",
   "execution_count": 29,
   "id": "a1375e99-4a7c-4cbe-9bc0-64405814695c",
   "metadata": {},
   "outputs": [
    {
     "name": "stdout",
     "output_type": "stream",
     "text": [
      "1.0\n",
      "0.5\n",
      "0.3333333333333333\n",
      "0.25\n",
      "0.2\n"
     ]
    }
   ],
   "source": [
    "my_func = lambda x: 1 / x\n",
    "apply_func([1,2,3,4,5], my_func)"
   ]
  },
  {
   "cell_type": "code",
   "execution_count": 31,
   "id": "e1feac7d-90c4-4280-9788-50655c01f99b",
   "metadata": {},
   "outputs": [
    {
     "name": "stdout",
     "output_type": "stream",
     "text": [
      "0\n",
      "0\n",
      "0\n",
      "0\n",
      "0\n"
     ]
    }
   ],
   "source": [
    "my_func = lambda x: 0\n",
    "apply_func([1,2,3,4,5], my_func)"
   ]
  },
  {
   "cell_type": "code",
   "execution_count": 33,
   "id": "2fc888ec-b266-4bdb-a509-2efb0055f943",
   "metadata": {},
   "outputs": [
    {
     "name": "stdout",
     "output_type": "stream",
     "text": [
      "1\n",
      "4\n",
      "9\n",
      "16\n",
      "25\n"
     ]
    }
   ],
   "source": [
    "apply_func([1,2,3,4,5], lambda x: x * x)"
   ]
  },
  {
   "cell_type": "code",
   "execution_count": null,
   "id": "52e3fa29-2282-494d-8f18-0f36d0c6421a",
   "metadata": {},
   "outputs": [],
   "source": []
  }
 ],
 "metadata": {
  "kernelspec": {
   "display_name": "Python 3 (ipykernel)",
   "language": "python",
   "name": "python3"
  },
  "language_info": {
   "codemirror_mode": {
    "name": "ipython",
    "version": 3
   },
   "file_extension": ".py",
   "mimetype": "text/x-python",
   "name": "python",
   "nbconvert_exporter": "python",
   "pygments_lexer": "ipython3",
   "version": "3.12.4"
  }
 },
 "nbformat": 4,
 "nbformat_minor": 5
}
