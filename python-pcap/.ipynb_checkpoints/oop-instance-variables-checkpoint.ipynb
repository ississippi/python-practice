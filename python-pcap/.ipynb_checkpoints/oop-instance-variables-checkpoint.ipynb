{
 "cells": [
  {
   "cell_type": "code",
   "execution_count": 20,
   "id": "9a454341-1d33-4561-a76b-08c28e813daf",
   "metadata": {},
   "outputs": [],
   "source": [
    "class Dog():\n",
    "    def __init__(self, name, age):\n",
    "        self.name = name\n",
    "        self.age = age\n"
   ]
  },
  {
   "cell_type": "code",
   "execution_count": 22,
   "id": "5bf32953-b90b-467f-827b-ad7106678af1",
   "metadata": {},
   "outputs": [
    {
     "data": {
      "text/plain": [
       "{'name': 'Teddy', 'age': 2}"
      ]
     },
     "execution_count": 22,
     "metadata": {},
     "output_type": "execute_result"
    }
   ],
   "source": [
    "my_pet = Dog('Teddy', 2)\n",
    "my_pet.__dict__"
   ]
  },
  {
   "cell_type": "code",
   "execution_count": 24,
   "id": "f25deee6-ab28-4dd7-aa4c-439a6ce46971",
   "metadata": {},
   "outputs": [],
   "source": [
    "my_pet.colour = 'brown'"
   ]
  },
  {
   "cell_type": "code",
   "execution_count": 26,
   "id": "7256bf24-001b-4341-a7e5-e93492f5cb8c",
   "metadata": {},
   "outputs": [
    {
     "data": {
      "text/plain": [
       "{'age': 2, 'colour': 'brown'}"
      ]
     },
     "execution_count": 26,
     "metadata": {},
     "output_type": "execute_result"
    }
   ],
   "source": [
    "del my_pet.name\n",
    "my_pet.__dict__"
   ]
  },
  {
   "cell_type": "code",
   "execution_count": 28,
   "id": "49081382-2d42-483c-8ca0-bfa89bededf0",
   "metadata": {},
   "outputs": [
    {
     "data": {
      "text/plain": [
       "{'age': 2, 'colour': 'brown'}"
      ]
     },
     "execution_count": 28,
     "metadata": {},
     "output_type": "execute_result"
    }
   ],
   "source": [
    "my_pet.__dict__"
   ]
  },
  {
   "cell_type": "code",
   "execution_count": 30,
   "id": "2da4bf5c-1588-4ea9-856b-2b09ec3794c3",
   "metadata": {},
   "outputs": [],
   "source": [
    "class Dog():\n",
    "    def __init__(self, name, age):\n",
    "        self.__name = name\n",
    "        self.age = age"
   ]
  },
  {
   "cell_type": "code",
   "execution_count": 32,
   "id": "f5d56c1d-faa8-4024-adfa-3077b71adf0c",
   "metadata": {},
   "outputs": [
    {
     "data": {
      "text/plain": [
       "{'_Dog__name': 'Teddy', 'age': 2}"
      ]
     },
     "execution_count": 32,
     "metadata": {},
     "output_type": "execute_result"
    }
   ],
   "source": [
    "my_pet = Dog('Teddy', 2)\n",
    "my_pet.__dict__"
   ]
  },
  {
   "cell_type": "code",
   "execution_count": null,
   "id": "50a957c9-0c04-4ed6-95af-2d5f7efabf5c",
   "metadata": {},
   "outputs": [],
   "source": []
  }
 ],
 "metadata": {
  "kernelspec": {
   "display_name": "Python 3 (ipykernel)",
   "language": "python",
   "name": "python3"
  },
  "language_info": {
   "codemirror_mode": {
    "name": "ipython",
    "version": 3
   },
   "file_extension": ".py",
   "mimetype": "text/x-python",
   "name": "python",
   "nbconvert_exporter": "python",
   "pygments_lexer": "ipython3",
   "version": "3.12.4"
  }
 },
 "nbformat": 4,
 "nbformat_minor": 5
}
