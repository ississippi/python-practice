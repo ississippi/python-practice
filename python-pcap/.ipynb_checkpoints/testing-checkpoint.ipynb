{
 "cells": [
  {
   "cell_type": "code",
   "execution_count": 53,
   "id": "a1eabac7-97a3-429d-9fe9-c564b32010a1",
   "metadata": {},
   "outputs": [],
   "source": [
    "class Card:\n",
    "    def __init__(self, card_suit, card_value):\n",
    "        self.suit = card_suit\n",
    "        self.value = card_value\n",
    "        \n",
    "    def present(self):\n",
    "        return self.value + ' of ' + self.suit\n",
    "\n",
    "class Deck:\n",
    "    suits = ['hearts', 'diamonds', 'clubs', 'spades']\n",
    "    values = ['Ace', '2', '3', '4', '5', '6', '7', '8', '9', '10', 'Jack', 'Queen', 'King']\n",
    "    \n",
    "    def __init__(self):\n",
    "        self.cards = []\n",
    "        for s in self.suits:\n",
    "            for v in self.values:\n",
    "                self.cards.append(Card(s,v))\n",
    "                \n",
    "    def present(self):\n",
    "        for c in self.cards:\n",
    "            print(c.value, 'of', c.suit)\n",
    "\n",
    "    def shuffle(self):\n",
    "        pass\n",
    "\n",
    "    def deal(self):\n",
    "        pass\n",
    "\n",
    "    def get_remaining(self):\n",
    "        print(str(len(self.cards)))\n",
    "\n",
    "    def count_remaining(self):\n",
    "        pass\n",
    "\n",
    "        "
   ]
  },
  {
   "cell_type": "code",
   "execution_count": 55,
   "id": "667cbc16-9c1e-439c-a156-0ccfa835482c",
   "metadata": {},
   "outputs": [
    {
     "name": "stdout",
     "output_type": "stream",
     "text": [
      "52\n",
      "Ace of hearts\n",
      "2 of hearts\n",
      "3 of hearts\n",
      "4 of hearts\n",
      "5 of hearts\n",
      "6 of hearts\n",
      "7 of hearts\n",
      "8 of hearts\n",
      "9 of hearts\n",
      "10 of hearts\n",
      "Jack of hearts\n",
      "Queen of hearts\n",
      "King of hearts\n",
      "Ace of diamonds\n",
      "2 of diamonds\n",
      "3 of diamonds\n",
      "4 of diamonds\n",
      "5 of diamonds\n",
      "6 of diamonds\n",
      "7 of diamonds\n",
      "8 of diamonds\n",
      "9 of diamonds\n",
      "10 of diamonds\n",
      "Jack of diamonds\n",
      "Queen of diamonds\n",
      "King of diamonds\n",
      "Ace of clubs\n",
      "2 of clubs\n",
      "3 of clubs\n",
      "4 of clubs\n",
      "5 of clubs\n",
      "6 of clubs\n",
      "7 of clubs\n",
      "8 of clubs\n",
      "9 of clubs\n",
      "10 of clubs\n",
      "Jack of clubs\n",
      "Queen of clubs\n",
      "King of clubs\n",
      "Ace of spades\n",
      "2 of spades\n",
      "3 of spades\n",
      "4 of spades\n",
      "5 of spades\n",
      "6 of spades\n",
      "7 of spades\n",
      "8 of spades\n",
      "9 of spades\n",
      "10 of spades\n",
      "Jack of spades\n",
      "Queen of spades\n",
      "King of spades\n"
     ]
    }
   ],
   "source": [
    "deck = Deck()\n",
    "deck.get_remaining()\n",
    "deck.present()"
   ]
  },
  {
   "cell_type": "code",
   "execution_count": 29,
   "id": "062b5707-45b6-472f-b569-ba9bdf5e1ffb",
   "metadata": {},
   "outputs": [],
   "source": [
    "def count_occurences(file_name, word):\n",
    "    try:\n",
    "        stream = open('animals.txt','r')\n",
    "        counter = 0\n",
    "        for line in stream:\n",
    "            words = line.replace('.', ' ').replace(',', ' ').split()\n",
    "            for i in words:\n",
    "                if(i.lower() == word.lower()):\n",
    "                    counter += 1\n",
    "    except Exception as e:\n",
    "        print('An error occurred: ', e)\n",
    "\n",
    "    finally:\n",
    "        stream.close()\n",
    "    return counter"
   ]
  },
  {
   "cell_type": "code",
   "execution_count": 31,
   "id": "39017a53-633a-4ab8-bee7-b64bcfbe15cf",
   "metadata": {},
   "outputs": [
    {
     "data": {
      "text/plain": [
       "2"
      ]
     },
     "execution_count": 31,
     "metadata": {},
     "output_type": "execute_result"
    }
   ],
   "source": [
    "count_occurences('animals.txt','WiLd')"
   ]
  },
  {
   "cell_type": "code",
   "execution_count": null,
   "id": "014355ba-12da-4bce-9b16-94ca75ca7e3c",
   "metadata": {},
   "outputs": [],
   "source": []
  }
 ],
 "metadata": {
  "kernelspec": {
   "display_name": "Python 3 (ipykernel)",
   "language": "python",
   "name": "python3"
  },
  "language_info": {
   "codemirror_mode": {
    "name": "ipython",
    "version": 3
   },
   "file_extension": ".py",
   "mimetype": "text/x-python",
   "name": "python",
   "nbconvert_exporter": "python",
   "pygments_lexer": "ipython3",
   "version": "3.12.4"
  }
 },
 "nbformat": 4,
 "nbformat_minor": 5
}
