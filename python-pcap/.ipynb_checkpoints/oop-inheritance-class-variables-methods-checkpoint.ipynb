{
 "cells": [
  {
   "cell_type": "code",
   "execution_count": 21,
   "id": "8b76bc5f-3f46-4bd9-9cf5-0c6fb5c0df57",
   "metadata": {},
   "outputs": [],
   "source": [
    "class Vehicle:\n",
    "    class_message = 'This is a message from the Vehicle class!'\n",
    "    def __init__(self,speed):\n",
    "        self.speed = speed\n",
    "        \n",
    "class LandVehicle(Vehicle):\n",
    "    def __init__(self, speed, wheel_count):\n",
    "        #Vehicle.__init__(self, speed)\n",
    "        super().__init__(speed) # super() eliminates the requirement for the self parameter\n",
    "        self.wheel_count = wheel_count\n",
    "        print(super().class_message)\n",
    "\n",
    "class Car(LandVehicle):\n",
    "    pass"
   ]
  },
  {
   "cell_type": "code",
   "execution_count": 23,
   "id": "713ed031-b63e-4431-99f0-35d78a3286f8",
   "metadata": {},
   "outputs": [
    {
     "name": "stdout",
     "output_type": "stream",
     "text": [
      "This is a message from the Vehicle class!\n"
     ]
    }
   ],
   "source": [
    "my_car = Car(50, 4)"
   ]
  },
  {
   "cell_type": "code",
   "execution_count": 25,
   "id": "f1614570-abe4-4ff8-845e-cbc55ce280a7",
   "metadata": {},
   "outputs": [
    {
     "data": {
      "text/plain": [
       "'This is a message from the Vehicle class!'"
      ]
     },
     "execution_count": 25,
     "metadata": {},
     "output_type": "execute_result"
    }
   ],
   "source": [
    "my_car.class_message"
   ]
  },
  {
   "cell_type": "code",
   "execution_count": 37,
   "id": "114cd700-2ed5-439c-b909-478cfada2bc8",
   "metadata": {},
   "outputs": [],
   "source": [
    "class Vehicle:\n",
    "    class_message = 'This is a message from the Vehicle class!'\n",
    "    def __init__(self,speed):\n",
    "        self.speed = speed\n",
    "        \n",
    "class LandVehicle(Vehicle):\n",
    "    def __init__(self, speed, wheel_count):\n",
    "        #Vehicle.__init__(self, speed)\n",
    "        super().__init__(speed) # super() eliminates the requirement for the self parameter\n",
    "        self.wheel_count = wheel_count\n",
    "        print(super().class_message)\n",
    "\n",
    "    def speed_up(self):\n",
    "        self.speed += 5\n",
    "\n",
    "class Car(LandVehicle):\n",
    "    def super_speed(speed_self):\n",
    "        print('Super speed activated!')\n",
    "        super().speed_up()\n",
    "        super().speed_up()\n",
    "        super().speed_up()\n",
    "    "
   ]
  },
  {
   "cell_type": "code",
   "execution_count": 41,
   "id": "724d30bd-6589-4eae-8662-ef309df23102",
   "metadata": {},
   "outputs": [
    {
     "name": "stdout",
     "output_type": "stream",
     "text": [
      "This is a message from the Vehicle class!\n",
      "{'speed': 10, 'wheel_count': 4}\n",
      "Super speed activated!\n",
      "{'speed': 25, 'wheel_count': 4}\n",
      "{'speed': 30, 'wheel_count': 4}\n"
     ]
    }
   ],
   "source": [
    "my_fast_car = Car(10, 4)\n",
    "print(my_fast_car.__dict__)\n",
    "my_fast_car.super_speed()\n",
    "print(my_fast_car.__dict__)\n",
    "my_fast_car.speed_up()\n",
    "print(my_fast_car.__dict__)"
   ]
  },
  {
   "cell_type": "code",
   "execution_count": null,
   "id": "b57b3079-f624-41fc-945a-6f1027e4ce94",
   "metadata": {},
   "outputs": [],
   "source": []
  }
 ],
 "metadata": {
  "kernelspec": {
   "display_name": "Python 3 (ipykernel)",
   "language": "python",
   "name": "python3"
  },
  "language_info": {
   "codemirror_mode": {
    "name": "ipython",
    "version": 3
   },
   "file_extension": ".py",
   "mimetype": "text/x-python",
   "name": "python",
   "nbconvert_exporter": "python",
   "pygments_lexer": "ipython3",
   "version": "3.12.4"
  }
 },
 "nbformat": 4,
 "nbformat_minor": 5
}
