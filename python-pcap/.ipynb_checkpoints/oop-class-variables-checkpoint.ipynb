{
 "cells": [
  {
   "cell_type": "code",
   "execution_count": 2,
   "id": "d750fecd-c996-44b0-8e1b-24b251d7f726",
   "metadata": {},
   "outputs": [
    {
     "name": "stdout",
     "output_type": "stream",
     "text": [
      "3\n",
      "3\n",
      "3\n"
     ]
    }
   ],
   "source": [
    "class Dog():\n",
    "    counter = 0 # class variable, can make private with __\n",
    "    def __init__(self, name, age):\n",
    "        self.__name = name\n",
    "        self.age = age\n",
    "        Dog.counter += 1\n",
    "\n",
    "my_pet = Dog('Teddy', 2)\n",
    "kates_pet = Dog('Foxy', 5)\n",
    "adams_pet = Dog('Luna', 1)\n",
    "\n",
    "print(my_pet.counter)\n",
    "print(kates_pet.counter)\n",
    "print(adams_pet.counter)"
   ]
  },
  {
   "cell_type": "code",
   "execution_count": 6,
   "id": "e514af1c-2973-47af-b8d4-dd53ed3a1b40",
   "metadata": {},
   "outputs": [
    {
     "data": {
      "text/plain": [
       "{'_Dog__name': 'Teddy', 'age': 2}"
      ]
     },
     "execution_count": 6,
     "metadata": {},
     "output_type": "execute_result"
    }
   ],
   "source": [
    "my_pet.__dict__  # only shows instance variables, ignore class variables"
   ]
  },
  {
   "cell_type": "code",
   "execution_count": 8,
   "id": "e9c799d0-37d7-44e7-9be0-f19d123be697",
   "metadata": {},
   "outputs": [
    {
     "name": "stdout",
     "output_type": "stream",
     "text": [
      "3\n"
     ]
    }
   ],
   "source": [
    "print(Dog.counter)"
   ]
  },
  {
   "cell_type": "code",
   "execution_count": 10,
   "id": "3e58c2bf-8853-4fa9-841b-bc2167452943",
   "metadata": {},
   "outputs": [
    {
     "name": "stdout",
     "output_type": "stream",
     "text": [
      "{'__module__': '__main__', 'counter': 3, '__init__': <function Dog.__init__ at 0x0000017FE9BD82C0>, '__dict__': <attribute '__dict__' of 'Dog' objects>, '__weakref__': <attribute '__weakref__' of 'Dog' objects>, '__doc__': None}\n"
     ]
    }
   ],
   "source": [
    "print(Dog.__dict__)"
   ]
  },
  {
   "cell_type": "code",
   "execution_count": 18,
   "id": "7fb6a245-5114-44ce-bc17-a5360d68dbfe",
   "metadata": {},
   "outputs": [
    {
     "name": "stdout",
     "output_type": "stream",
     "text": [
      "My pet is called Tom\n",
      "The Dog class has a counter\n"
     ]
    }
   ],
   "source": [
    "class Dog():\n",
    "    counter = 0 # class variable, can make private with __\n",
    "    def __init__(self, name, age):\n",
    "        self.name = name\n",
    "        self.age = age\n",
    "        Dog.counter += 1\n",
    "\n",
    "my_pet = Dog('Tom', 5)\n",
    "\n",
    "if hasattr(my_pet, 'name'):\n",
    "    print('My pet is called', my_pet.name)\n",
    "else:\n",
    "    print('My pet has no name')\n",
    "\n",
    "if hasattr(Dog, 'counter'):\n",
    "    print('The Dog class has a counter')\n",
    "else:\n",
    "    print('The Dog class does not have a counter')"
   ]
  },
  {
   "cell_type": "code",
   "execution_count": 20,
   "id": "6e4747d3-2106-4461-b202-e1e9812fb02c",
   "metadata": {},
   "outputs": [
    {
     "name": "stdout",
     "output_type": "stream",
     "text": [
      "Dog\n"
     ]
    }
   ],
   "source": [
    "print(Dog.__name__)"
   ]
  },
  {
   "cell_type": "code",
   "execution_count": 22,
   "id": "ddd90908-6001-478c-9f20-d57f40922b40",
   "metadata": {},
   "outputs": [
    {
     "data": {
      "text/plain": [
       "'Dog'"
      ]
     },
     "execution_count": 22,
     "metadata": {},
     "output_type": "execute_result"
    }
   ],
   "source": [
    "my_pet = Dog('Tom', 5)\n",
    "type(my_pet).__name__"
   ]
  },
  {
   "cell_type": "code",
   "execution_count": 24,
   "id": "fcb5a25d-2507-4027-884a-a92e6232cc4a",
   "metadata": {},
   "outputs": [
    {
     "name": "stdout",
     "output_type": "stream",
     "text": [
      "__main__\n"
     ]
    }
   ],
   "source": [
    "print(Dog.__module__)"
   ]
  },
  {
   "cell_type": "code",
   "execution_count": null,
   "id": "19848091-fa5a-4fdb-a69b-c404ec727f49",
   "metadata": {},
   "outputs": [],
   "source": []
  }
 ],
 "metadata": {
  "kernelspec": {
   "display_name": "Python 3 (ipykernel)",
   "language": "python",
   "name": "python3"
  },
  "language_info": {
   "codemirror_mode": {
    "name": "ipython",
    "version": 3
   },
   "file_extension": ".py",
   "mimetype": "text/x-python",
   "name": "python",
   "nbconvert_exporter": "python",
   "pygments_lexer": "ipython3",
   "version": "3.12.4"
  }
 },
 "nbformat": 4,
 "nbformat_minor": 5
}
