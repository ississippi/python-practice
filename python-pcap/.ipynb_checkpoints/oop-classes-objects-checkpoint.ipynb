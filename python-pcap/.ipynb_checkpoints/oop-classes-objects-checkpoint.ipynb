{
 "cells": [
  {
   "cell_type": "code",
   "execution_count": 10,
   "id": "f5ec4610-3c15-4325-9b92-17906a4a3cbb",
   "metadata": {},
   "outputs": [
    {
     "name": "stdout",
     "output_type": "stream",
     "text": [
      "Hello, I am Gary and I live in Fort Mill\n",
      "Gary\n",
      "Fort Mill\n"
     ]
    }
   ],
   "source": [
    "class User:\n",
    "    def __init__(self, nickname, city):\n",
    "        self.nickname = nickname\n",
    "        self.city = city\n",
    "\n",
    "    def introduce(self):\n",
    "        print('Hello, I am', self.nickname, 'and I live in', self.city)\n",
    "\n",
    "\n",
    "print(sample_user.nickname)\n",
    "print(sample_user.city)"
   ]
  },
  {
   "cell_type": "code",
   "execution_count": 12,
   "id": "841d7081-0018-4ecc-9ea4-e8cc4a1896bd",
   "metadata": {},
   "outputs": [],
   "source": [
    "first_user = User('Gary','Fort Mill')\n",
    "second_user = User('Mary','Columbia')\n",
    "third_user = User('Jerry','Charlotte')\n"
   ]
  },
  {
   "cell_type": "code",
   "execution_count": 14,
   "id": "f8229956-54b5-485c-82e8-5b9660ba9ca6",
   "metadata": {},
   "outputs": [
    {
     "name": "stdout",
     "output_type": "stream",
     "text": [
      "Hello, I am Gary and I live in Fort Mill\n",
      "Hello, I am Mary and I live in Columbia\n",
      "Hello, I am Jerry and I live in Charlotte\n"
     ]
    }
   ],
   "source": [
    "first_user.introduce()\n",
    "second_user.introduce()\n",
    "third_user.introduce()"
   ]
  },
  {
   "cell_type": "code",
   "execution_count": null,
   "id": "880f96e6-b653-4f0b-b31e-cdc2ce47507e",
   "metadata": {},
   "outputs": [],
   "source": []
  }
 ],
 "metadata": {
  "kernelspec": {
   "display_name": "Python 3 (ipykernel)",
   "language": "python",
   "name": "python3"
  },
  "language_info": {
   "codemirror_mode": {
    "name": "ipython",
    "version": 3
   },
   "file_extension": ".py",
   "mimetype": "text/x-python",
   "name": "python",
   "nbconvert_exporter": "python",
   "pygments_lexer": "ipython3",
   "version": "3.12.4"
  }
 },
 "nbformat": 4,
 "nbformat_minor": 5
}
