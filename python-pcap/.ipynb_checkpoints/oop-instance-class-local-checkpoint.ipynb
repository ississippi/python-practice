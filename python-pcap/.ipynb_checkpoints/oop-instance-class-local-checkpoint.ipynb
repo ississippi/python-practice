{
 "cells": [
  {
   "cell_type": "code",
   "execution_count": 7,
   "id": "7dd9ac3b-c14d-426e-a0cf-e912c3431bdb",
   "metadata": {},
   "outputs": [
    {
     "name": "stdout",
     "output_type": "stream",
     "text": [
      "low medium high\n",
      "The house at 12 Lexington St, Soho has an area of 130 and costs 54000\n",
      "1\n"
     ]
    }
   ],
   "source": [
    "class House():\n",
    "    counter = 0\n",
    "    def __init__(self, address, area, price):\n",
    "        self.address = address\n",
    "        self.area = area\n",
    "        self.price = price\n",
    "        House.counter += 1\n",
    "\n",
    "        House.quality = 'low' # class variable\n",
    "        self.quality = 'medium' # instance variable\n",
    "        quality = 'high' # local variable\n",
    "\n",
    "        print(House.quality, self.quality, quality)\n",
    "\n",
    "    def present(self):\n",
    "        print('The house at', self.address, 'has an area of', self.area, 'and costs', self.price)\n",
    "\n",
    "soho_house =  House('12 Lexington St, Soho', 130, 54000)\n",
    "soho_house.present()\n",
    "print(House.counter)"
   ]
  },
  {
   "cell_type": "code",
   "execution_count": 9,
   "id": "5ddeda3a-0990-47f8-90fa-0008b3270d65",
   "metadata": {},
   "outputs": [
    {
     "name": "stdout",
     "output_type": "stream",
     "text": [
      "medium\n",
      "low\n"
     ]
    }
   ],
   "source": [
    "print(soho_house.quality)\n",
    "print(House.quality)\n",
    "# note cannot see the local variable"
   ]
  },
  {
   "cell_type": "code",
   "execution_count": null,
   "id": "ede70d45-0134-4e21-a4d2-85712c2233ba",
   "metadata": {},
   "outputs": [],
   "source": []
  }
 ],
 "metadata": {
  "kernelspec": {
   "display_name": "Python 3 (ipykernel)",
   "language": "python",
   "name": "python3"
  },
  "language_info": {
   "codemirror_mode": {
    "name": "ipython",
    "version": 3
   },
   "file_extension": ".py",
   "mimetype": "text/x-python",
   "name": "python",
   "nbconvert_exporter": "python",
   "pygments_lexer": "ipython3",
   "version": "3.12.4"
  }
 },
 "nbformat": 4,
 "nbformat_minor": 5
}
