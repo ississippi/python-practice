{
 "cells": [
  {
   "cell_type": "code",
   "execution_count": 21,
   "id": "f896209c-58d3-41bf-82c8-f94b0e3eb894",
   "metadata": {},
   "outputs": [],
   "source": [
    "class Vehicle():\n",
    "    def go(self):\n",
    "        print('Going!')\n",
    "\n",
    "    def introduce(self):\n",
    "        print('I am a Vehicle')\n",
    "\n",
    "class Flyable():\n",
    "    def fly(self):\n",
    "        print('Flying!')\n",
    "\n",
    "    def introduce(self):\n",
    "        print('I am a Flyable')\n",
    "\n",
    "class Airplane(Vehicle, Flyable):  \n",
    "    pass\n",
    "    "
   ]
  },
  {
   "cell_type": "code",
   "execution_count": 13,
   "id": "d2ce73ac-3e2c-4101-b62b-f3cec0ec569b",
   "metadata": {},
   "outputs": [
    {
     "name": "stdout",
     "output_type": "stream",
     "text": [
      "Going!\n",
      "Flying!\n"
     ]
    }
   ],
   "source": [
    "my_plane = Airplane()\n",
    "my_plane.go()\n",
    "my_plane.fly()"
   ]
  },
  {
   "cell_type": "code",
   "execution_count": 15,
   "id": "0a997b42-a079-47a0-b183-a885f3c5af27",
   "metadata": {},
   "outputs": [
    {
     "name": "stdout",
     "output_type": "stream",
     "text": [
      "I am a Vehicle\n"
     ]
    }
   ],
   "source": [
    "my_plane = Airplane()\n",
    "my_plane.introduce()"
   ]
  },
  {
   "cell_type": "code",
   "execution_count": 27,
   "id": "58b367c8-1c74-44e1-ab78-4fd139fcb768",
   "metadata": {},
   "outputs": [],
   "source": [
    "class Vehicle():\n",
    "    def go(self):\n",
    "        print('Going!')\n",
    "\n",
    "    def introduce(self):\n",
    "        print('I am a Vehicle')\n",
    "\n",
    "class Flyable():\n",
    "    def fly(self):\n",
    "        print('Flying!')\n",
    "\n",
    "    def introduce(self):\n",
    "        print('I am a Flyable')\n",
    "\n",
    "class Airplane(Flyable, Vehicle):  \n",
    "    def introduce(self):\n",
    "        print('I am an Airplane')\n",
    "    "
   ]
  },
  {
   "cell_type": "code",
   "execution_count": 29,
   "id": "e8dc22e0-eaed-427a-a4cc-d52ac5f6b652",
   "metadata": {},
   "outputs": [
    {
     "name": "stdout",
     "output_type": "stream",
     "text": [
      "I am an Airplane\n"
     ]
    }
   ],
   "source": [
    "my_plane = Airplane()\n",
    "my_plane.introduce()"
   ]
  },
  {
   "cell_type": "code",
   "execution_count": 35,
   "id": "681cdf7e-4f50-426c-a556-a980f5861636",
   "metadata": {},
   "outputs": [
    {
     "name": "stdout",
     "output_type": "stream",
     "text": [
      "(<class '__main__.Flyable'>, <class '__main__.Vehicle'>)\n"
     ]
    }
   ],
   "source": [
    "print(Airplane.__bases__)"
   ]
  },
  {
   "cell_type": "code",
   "execution_count": null,
   "id": "651e0dcc-ceea-45a3-ae16-6303000ddac4",
   "metadata": {},
   "outputs": [],
   "source": []
  }
 ],
 "metadata": {
  "kernelspec": {
   "display_name": "Python 3 (ipykernel)",
   "language": "python",
   "name": "python3"
  },
  "language_info": {
   "codemirror_mode": {
    "name": "ipython",
    "version": 3
   },
   "file_extension": ".py",
   "mimetype": "text/x-python",
   "name": "python",
   "nbconvert_exporter": "python",
   "pygments_lexer": "ipython3",
   "version": "3.12.4"
  }
 },
 "nbformat": 4,
 "nbformat_minor": 5
}
