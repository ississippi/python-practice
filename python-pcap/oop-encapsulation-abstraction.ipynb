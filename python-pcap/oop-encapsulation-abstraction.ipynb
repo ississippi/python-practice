{
 "cells": [
  {
   "cell_type": "code",
   "execution_count": 31,
   "id": "43cb94fb-0138-4f0b-9def-1e69293bc885",
   "metadata": {},
   "outputs": [],
   "source": [
    "class Car():\n",
    "    def __init__(self, model, colour, initial_speed = 0):\n",
    "        self.model = model\n",
    "        self.colour = colour\n",
    "        if initial_speed < 0:\n",
    "            self.__speed = 0\n",
    "        else:\n",
    "            self.__speed = initial_speed\n",
    "    \n",
    "    def speed_up(self):\n",
    "        self.__speed += 5\n",
    "    def slow_down(self):\n",
    "        if self.__speed < 5:\n",
    "            self.__speed = 0\n",
    "        else:\n",
    "            self.__speed -= 5\n",
    "    def show_speed(self):\n",
    "        print('Current speed:', self.__speed)"
   ]
  },
  {
   "cell_type": "code",
   "execution_count": 33,
   "id": "aa89643b-ede2-40c5-820b-57d6c8625d80",
   "metadata": {},
   "outputs": [
    {
     "name": "stdout",
     "output_type": "stream",
     "text": [
      "Current speed: 0\n"
     ]
    }
   ],
   "source": [
    "my_lovely_car = Car('Tesla','White',-50)\n",
    "my_lovely_car.speed_up()\n",
    "my_lovely_car.slow_down()\n",
    "my_lovely_car.show_speed()"
   ]
  },
  {
   "cell_type": "code",
   "execution_count": null,
   "id": "c38df961-e790-4257-9d4e-e7a2a4679cdb",
   "metadata": {},
   "outputs": [],
   "source": []
  }
 ],
 "metadata": {
  "kernelspec": {
   "display_name": "Python 3 (ipykernel)",
   "language": "python",
   "name": "python3"
  },
  "language_info": {
   "codemirror_mode": {
    "name": "ipython",
    "version": 3
   },
   "file_extension": ".py",
   "mimetype": "text/x-python",
   "name": "python",
   "nbconvert_exporter": "python",
   "pygments_lexer": "ipython3",
   "version": "3.12.4"
  }
 },
 "nbformat": 4,
 "nbformat_minor": 5
}
