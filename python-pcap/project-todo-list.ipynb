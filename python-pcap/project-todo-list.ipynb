{
 "cells": [
  {
   "cell_type": "code",
   "execution_count": 29,
   "id": "ed768a67-3792-42f8-b7cf-9cc13a567db8",
   "metadata": {},
   "outputs": [
    {
     "name": "stdout",
     "output_type": "stream",
     "text": [
      "\n",
      "== TODO LIST ==\n",
      "[1] show tasks\n",
      "[2] add task\n",
      "[3] complete task\n",
      "[4] exit\n"
     ]
    },
    {
     "name": "stdin",
     "output_type": "stream",
     "text": [
      "Your choice: 1\n"
     ]
    },
    {
     "name": "stdout",
     "output_type": "stream",
     "text": [
      "\n",
      "[YOUR TASKS]\n",
      "Empty list\n",
      "\n",
      "No tasks to complete\n",
      "\n",
      "== TODO LIST ==\n",
      "[1] show tasks\n",
      "[2] add task\n",
      "[3] complete task\n",
      "[4] exit\n"
     ]
    },
    {
     "name": "stdin",
     "output_type": "stream",
     "text": [
      "Your choice: 4\n"
     ]
    }
   ],
   "source": [
    "import random\n",
    "import uuid\n",
    "\n",
    "def show_menu():\n",
    "    print('\\n== TODO LIST ==')\n",
    "    print('[1] show tasks')\n",
    "    print('[2] add task')\n",
    "    print('[3] complete task')\n",
    "    print('[4] exit')\n",
    "\n",
    "def add_task():\n",
    "    what = input('What is the task?')\n",
    "    when = input('What is the task deadline?')\n",
    "    todo_item = str(uuid.uuid4()) + '|' + what + '|' + when + '\\n'\n",
    "    print(todo_item)\n",
    "    try:\n",
    "        stream = open('todolist.txt', 'a')\n",
    "        stream.write(todo_item)\n",
    "        stream.close()\n",
    "    except Exception as e:\n",
    "        print('add_task(): An error occurred: ', e)\n",
    "\n",
    "def show_tasks():\n",
    "    print('\\n[YOUR TASKS]')\n",
    "    try:\n",
    "        stream = open('todolist.txt', 'r')\n",
    "        lines = stream.readlines()\n",
    "        stream.close()\n",
    "\n",
    "        if len(lines) == 0:\n",
    "            print('Empty list\\n')\n",
    "            print('No tasks to complete')\n",
    "        else:\n",
    "            for line in lines:\n",
    "                fields = line.split('|')\n",
    "                print(fields[0] + '|' + fields[1] + '|' + fields[2])\n",
    "    except Exception as e:\n",
    "        print('show_tasks(): An error occurred: ', e)\n",
    "\n",
    "def complete_task():\n",
    "    show_tasks()\n",
    "    task_completed = input('Enter id to complete:')\n",
    "    lines_to_write = []\n",
    "    stream = open('todolist.txt', 'r')\n",
    "    lines = stream.readlines()\n",
    "    stream.close()\n",
    "    for line in lines:\n",
    "        fields = line.split('|')\n",
    "        if task_completed == fields[0]:\n",
    "            continue\n",
    "        else:\n",
    "            lines_to_write.append(line)\n",
    "    try:\n",
    "        stream = open('todolist.txt', 'w')\n",
    "        stream.close()\n",
    "        stream = open('todolist.txt', 'a')\n",
    "        for line in lines_to_write:\n",
    "            stream.write(line)\n",
    "        stream.close()\n",
    "    except Exception as e:\n",
    "        print('complete_task(): An error occurred: ', e)    \n",
    "\n",
    "if __name__ == '__main__':\n",
    "    stream = open('todolist.txt', 'w')\n",
    "    stream.close()\n",
    "while True:\n",
    "    show_menu()\n",
    "    choice = int(input('Your choice:'))\n",
    "    if choice == 4:\n",
    "        break\n",
    "    elif choice == 1:\n",
    "        show_tasks()\n",
    "    elif choice == 2:\n",
    "        add_task()\n",
    "    elif choice == 3:\n",
    "        complete_task()\n",
    "        "
   ]
  },
  {
   "cell_type": "code",
   "execution_count": null,
   "id": "e60efd47-2ec6-44de-82ab-a1b128403849",
   "metadata": {},
   "outputs": [],
   "source": []
  }
 ],
 "metadata": {
  "kernelspec": {
   "display_name": "Python 3 (ipykernel)",
   "language": "python",
   "name": "python3"
  },
  "language_info": {
   "codemirror_mode": {
    "name": "ipython",
    "version": 3
   },
   "file_extension": ".py",
   "mimetype": "text/x-python",
   "name": "python",
   "nbconvert_exporter": "python",
   "pygments_lexer": "ipython3",
   "version": "3.12.4"
  }
 },
 "nbformat": 4,
 "nbformat_minor": 5
}
