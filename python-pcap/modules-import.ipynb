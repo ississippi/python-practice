{
 "cells": [
  {
   "cell_type": "code",
   "execution_count": 2,
   "id": "07a4c4d0-b165-4927-88e4-d2f5463af85e",
   "metadata": {},
   "outputs": [],
   "source": [
    "import sys"
   ]
  },
  {
   "cell_type": "code",
   "execution_count": 4,
   "id": "6cd5699b-dae4-47c4-b59d-f729f556fa7d",
   "metadata": {},
   "outputs": [],
   "source": [
    "import sys, math"
   ]
  },
  {
   "cell_type": "code",
   "execution_count": 8,
   "id": "f9763199-d966-4ebb-8a7f-505f184255b4",
   "metadata": {},
   "outputs": [
    {
     "name": "stdout",
     "output_type": "stream",
     "text": [
      "__breakpointhook__\t__displayhook__\t__doc__\t__excepthook__\t__interactivehook__\t__loader__\t__name__\t__package__\t__spec__\t__stderr__\t__stdin__\t__stdout__\t__unraisablehook__\t_base_executable\t_clear_type_cache\t_current_exceptions\t_current_frames\t_debugmallocstats\t_enablelegacywindowsfsencoding\t_framework\t_getframe\t_getframemodulename\t_git\t_home\t_setprofileallthreads\t_settraceallthreads\t_stdlib_dir\t_vpath\t_xoptions\tactivate_stack_trampoline\taddaudithook\tapi_version\targv\taudit\tbase_exec_prefix\tbase_prefix\tbreakpointhook\tbuiltin_module_names\tbyteorder\tcall_tracing\tcopyright\tdeactivate_stack_trampoline\tdisplayhook\tdllhandle\tdont_write_bytecode\texc_info\texcepthook\texception\texec_prefix\texecutable\texit\tflags\tfloat_info\tfloat_repr_style\tget_asyncgen_hooks\tget_coroutine_origin_tracking_depth\tget_int_max_str_digits\tgetallocatedblocks\tgetdefaultencoding\tgetfilesystemencodeerrors\tgetfilesystemencoding\tgetprofile\tgetrecursionlimit\tgetrefcount\tgetsizeof\tgetswitchinterval\tgettrace\tgetunicodeinternedsize\tgetwindowsversion\thash_info\thexversion\timplementation\tint_info\tintern\tis_finalizing\tis_stack_trampoline_active\tlast_traceback\tlast_type\tlast_value\tmaxsize\tmaxunicode\tmeta_path\tmodules\tmonitoring\torig_argv\tpath\tpath_hooks\tpath_importer_cache\tplatform\tplatlibdir\tprefix\tps1\tps2\tps3\tpycache_prefix\tset_asyncgen_hooks\tset_coroutine_origin_tracking_depth\tset_int_max_str_digits\tsetprofile\tsetrecursionlimit\tsetswitchinterval\tsettrace\tstderr\tstdin\tstdlib_module_names\tstdout\tthread_info\tunraisablehook\tversion\tversion_info\twarnoptions\twinver\t"
     ]
    }
   ],
   "source": [
    "for name in dir(sys):\n",
    "    print(name, end='\\t')"
   ]
  },
  {
   "cell_type": "code",
   "execution_count": 10,
   "id": "7341dfcf-525b-4a05-87c5-3b7f15644c56",
   "metadata": {},
   "outputs": [
    {
     "ename": "SystemExit",
     "evalue": "",
     "output_type": "error",
     "traceback": [
      "An exception has occurred, use %tb to see the full traceback.\n",
      "\u001b[1;31mSystemExit\u001b[0m\n"
     ]
    },
    {
     "name": "stderr",
     "output_type": "stream",
     "text": [
      "C:\\ProgramData\\anaconda3\\Lib\\site-packages\\IPython\\core\\interactiveshell.py:3585: UserWarning: To exit: use 'exit', 'quit', or Ctrl-D.\n",
      "  warn(\"To exit: use 'exit', 'quit', or Ctrl-D.\", stacklevel=1)\n"
     ]
    }
   ],
   "source": [
    "import sys\n",
    "sys.exit()"
   ]
  },
  {
   "cell_type": "code",
   "execution_count": 12,
   "id": "d5367120-4813-4bfd-9e79-0e8031759db2",
   "metadata": {},
   "outputs": [
    {
     "ename": "AttributeError",
     "evalue": "module 'sys' has no attribute 'exit324'",
     "output_type": "error",
     "traceback": [
      "\u001b[1;31m---------------------------------------------------------------------------\u001b[0m",
      "\u001b[1;31mAttributeError\u001b[0m                            Traceback (most recent call last)",
      "Cell \u001b[1;32mIn[12], line 2\u001b[0m\n\u001b[0;32m      1\u001b[0m \u001b[38;5;28;01mimport\u001b[39;00m \u001b[38;5;21;01msys\u001b[39;00m\n\u001b[1;32m----> 2\u001b[0m sys\u001b[38;5;241m.\u001b[39mexit324()\n",
      "\u001b[1;31mAttributeError\u001b[0m: module 'sys' has no attribute 'exit324'"
     ]
    }
   ],
   "source": [
    "import sys\n",
    "sys.exit324()"
   ]
  },
  {
   "cell_type": "code",
   "execution_count": 14,
   "id": "74589768-4ede-430e-8868-364b11294c7e",
   "metadata": {},
   "outputs": [
    {
     "name": "stdout",
     "output_type": "stream",
     "text": [
      "I wanna exit\n"
     ]
    },
    {
     "ename": "SystemExit",
     "evalue": "",
     "output_type": "error",
     "traceback": [
      "An exception has occurred, use %tb to see the full traceback.\n",
      "\u001b[1;31mSystemExit\u001b[0m\n"
     ]
    }
   ],
   "source": [
    "import sys\n",
    "def exit():\n",
    "    print('I wanna exit')\n",
    "exit()\n",
    "sys.exit()"
   ]
  },
  {
   "cell_type": "code",
   "execution_count": 16,
   "id": "7ca71e87-d855-40ae-af8e-ac93f6fcea20",
   "metadata": {},
   "outputs": [
    {
     "ename": "SystemExit",
     "evalue": "",
     "output_type": "error",
     "traceback": [
      "An exception has occurred, use %tb to see the full traceback.\n",
      "\u001b[1;31mSystemExit\u001b[0m\n"
     ]
    }
   ],
   "source": [
    "from sys import exit\n",
    "exit()"
   ]
  },
  {
   "cell_type": "code",
   "execution_count": 18,
   "id": "1fbfd870-1742-44f0-91db-d793d48e28a1",
   "metadata": {},
   "outputs": [
    {
     "name": "stdout",
     "output_type": "stream",
     "text": [
      "I wanna exit\n"
     ]
    }
   ],
   "source": [
    "from sys import exit\n",
    "def exit():\n",
    "    print('I wanna exit')\n",
    "exit()"
   ]
  },
  {
   "cell_type": "code",
   "execution_count": 20,
   "id": "3050adc9-7d78-4b76-a590-3b5e5640d150",
   "metadata": {},
   "outputs": [],
   "source": [
    "from sys import * # NOT recommended"
   ]
  },
  {
   "cell_type": "code",
   "execution_count": 22,
   "id": "01693be3-c0fe-45a2-b5b4-5d57c9ed40ec",
   "metadata": {},
   "outputs": [],
   "source": [
    "import sys # need to add sys.\n",
    "from sys import *"
   ]
  },
  {
   "cell_type": "code",
   "execution_count": 24,
   "id": "a24986ec-b2d8-4b42-ac11-ddb6649a8244",
   "metadata": {},
   "outputs": [
    {
     "ename": "SystemExit",
     "evalue": "",
     "output_type": "error",
     "traceback": [
      "An exception has occurred, use %tb to see the full traceback.\n",
      "\u001b[1;31mSystemExit\u001b[0m\n"
     ]
    }
   ],
   "source": [
    "import sys as s # an alias\n",
    "s.exit()"
   ]
  },
  {
   "cell_type": "code",
   "execution_count": 26,
   "id": "9c03ee09-9bb4-4758-958f-d1139caac368",
   "metadata": {},
   "outputs": [
    {
     "ename": "SystemExit",
     "evalue": "",
     "output_type": "error",
     "traceback": [
      "An exception has occurred, use %tb to see the full traceback.\n",
      "\u001b[1;31mSystemExit\u001b[0m\n"
     ]
    }
   ],
   "source": [
    "from sys import exit as bye_bye\n",
    "bye_bye()"
   ]
  },
  {
   "cell_type": "code",
   "execution_count": null,
   "id": "24ba577e-7eb2-4318-add8-8b0e82db2b0f",
   "metadata": {},
   "outputs": [],
   "source": []
  }
 ],
 "metadata": {
  "kernelspec": {
   "display_name": "Python 3 (ipykernel)",
   "language": "python",
   "name": "python3"
  },
  "language_info": {
   "codemirror_mode": {
    "name": "ipython",
    "version": 3
   },
   "file_extension": ".py",
   "mimetype": "text/x-python",
   "name": "python",
   "nbconvert_exporter": "python",
   "pygments_lexer": "ipython3",
   "version": "3.12.4"
  }
 },
 "nbformat": 4,
 "nbformat_minor": 5
}
