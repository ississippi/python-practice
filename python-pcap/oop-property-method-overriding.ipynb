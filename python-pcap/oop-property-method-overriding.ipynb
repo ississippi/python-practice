{
 "cells": [
  {
   "cell_type": "code",
   "execution_count": 8,
   "id": "da553f3b-bd0d-4824-bc86-488940610a42",
   "metadata": {},
   "outputs": [],
   "source": [
    "class Animal():\n",
    "    def __init__(self):\n",
    "        self.species = 'general'\n",
    "    def produce_sound(self):\n",
    "        print('General animal sound')\n",
    "\n",
    "class Dog(Animal):\n",
    "    pass"
   ]
  },
  {
   "cell_type": "code",
   "execution_count": 10,
   "id": "faa2b2c6-861b-4553-9531-eabfeb103806",
   "metadata": {},
   "outputs": [
    {
     "name": "stdout",
     "output_type": "stream",
     "text": [
      "general\n",
      "General animal sound\n"
     ]
    }
   ],
   "source": [
    "my_pet = Dog()\n",
    "print(my_pet.species)\n",
    "my_pet.produce_sound()"
   ]
  },
  {
   "cell_type": "code",
   "execution_count": 16,
   "id": "de2e717b-6066-4e8a-8b88-e3a1a81f1cde",
   "metadata": {},
   "outputs": [],
   "source": [
    "class Animal():\n",
    "    def __init__(self):\n",
    "        self.species = 'general'\n",
    "    def produce_sound(self):\n",
    "        print('General animal sound')\n",
    "\n",
    "class Dog(Animal):\n",
    "    def __init__(self):\n",
    "        self.species = 'Canis familiaris'\n",
    "    def produce_sound(self):\n",
    "        print('woof, woof!')"
   ]
  },
  {
   "cell_type": "code",
   "execution_count": 18,
   "id": "af7138d0-cb9e-4407-a812-e53ab04cbcd6",
   "metadata": {},
   "outputs": [
    {
     "name": "stdout",
     "output_type": "stream",
     "text": [
      "Canis familiaris\n",
      "woof, woof!\n"
     ]
    }
   ],
   "source": [
    "my_pet = Dog()\n",
    "print(my_pet.species)\n",
    "my_pet.produce_sound()"
   ]
  },
  {
   "cell_type": "code",
   "execution_count": 20,
   "id": "0b0056f2-fe63-4676-a754-3977c8a0db85",
   "metadata": {},
   "outputs": [
    {
     "name": "stdout",
     "output_type": "stream",
     "text": [
      "General animal sound\n",
      "woof, woof!\n"
     ]
    }
   ],
   "source": [
    "my_first_pet = Animal()\n",
    "my_second_pet = Dog()\n",
    "my_first_pet.produce_sound()\n",
    "my_second_pet.produce_sound()"
   ]
  },
  {
   "cell_type": "code",
   "execution_count": 22,
   "id": "b79c09f6-3827-4098-8abd-f5d1add83553",
   "metadata": {},
   "outputs": [],
   "source": [
    "class Animal():\n",
    "    def __init__(self):\n",
    "        self.species = 'general'\n",
    "    def produce_sound(self):\n",
    "        print('General animal sound')\n",
    "\n",
    "    def present(self):\n",
    "        print('I can do the following sound:')\n",
    "        self.produce_sound()\n",
    "\n",
    "class Dog(Animal):\n",
    "    def __init__(self):\n",
    "        self.species = 'Canis familiaris'\n",
    "    def produce_sound(self):\n",
    "        print('woof, woof!')"
   ]
  },
  {
   "cell_type": "code",
   "execution_count": 24,
   "id": "5b9201e7-ca8b-4d3b-83da-f3c40c024bc6",
   "metadata": {},
   "outputs": [
    {
     "name": "stdout",
     "output_type": "stream",
     "text": [
      "I can do the following sound:\n",
      "General animal sound\n",
      "\n",
      "I can do the following sound:\n",
      "woof, woof!\n"
     ]
    }
   ],
   "source": [
    "my_first_pet = Animal()\n",
    "my_second_pet = Dog()\n",
    "my_first_pet.present()\n",
    "print()\n",
    "my_second_pet.present()"
   ]
  },
  {
   "cell_type": "code",
   "execution_count": null,
   "id": "8c672a45-1250-4f7f-844a-6a87c4f29dda",
   "metadata": {},
   "outputs": [],
   "source": []
  }
 ],
 "metadata": {
  "kernelspec": {
   "display_name": "Python 3 (ipykernel)",
   "language": "python",
   "name": "python3"
  },
  "language_info": {
   "codemirror_mode": {
    "name": "ipython",
    "version": 3
   },
   "file_extension": ".py",
   "mimetype": "text/x-python",
   "name": "python",
   "nbconvert_exporter": "python",
   "pygments_lexer": "ipython3",
   "version": "3.12.4"
  }
 },
 "nbformat": 4,
 "nbformat_minor": 5
}
