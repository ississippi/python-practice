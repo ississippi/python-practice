{
 "cells": [
  {
   "cell_type": "code",
   "execution_count": 69,
   "id": "da4daddc-b6e4-4729-88d3-f1716337d33f",
   "metadata": {},
   "outputs": [],
   "source": [
    "import random\n",
    "class Card:\n",
    "    def __init__(self, card_suit, card_value):\n",
    "        self.suit = card_suit\n",
    "        self.value = card_value\n",
    "        \n",
    "    def present(self):\n",
    "        return self.value + ' of ' + self.suit\n",
    "\n",
    "class Deck:\n",
    "    suits = ['hearts', 'diamonds', 'clubs', 'spades']\n",
    "    values = ['Ace', '2', '3', '4', '5', '6', '7', '8', '9', '10', 'Jack', 'Queen', 'King']\n",
    "    \n",
    "    def __init__(self):\n",
    "        self.cards = []\n",
    "        for s in self.suits:\n",
    "            for v in self.values:\n",
    "                self.cards.append(Card(s,v))\n",
    "        #self.cards = [Card(s, v) for s in suits for v in values]\n",
    "                \n",
    "    def present(self, c):\n",
    "        return c.value + ' of ' + c.suit\n",
    "\n",
    "    def shuffle(self):\n",
    "        random.shuffle(self.cards)\n",
    "\n",
    "    def deal(self):\n",
    "\t    if len(self.cards) == 0:\n",
    "\t        return None\n",
    "\t    return self.cards.pop()\n",
    "\n",
    "    def get_remaining(self):\n",
    "        list_to_return = []\n",
    "        for c in self.cards:\n",
    "            list_to_return.append(self.present(c))\n",
    "        return list_to_return\n",
    "\n",
    "    def count_remaining(self):\n",
    "        return len(self.cards)\n",
    "\n",
    "        "
   ]
  },
  {
   "cell_type": "code",
   "execution_count": 71,
   "id": "6eb88d85-3ad6-4129-8354-4916e2cd0184",
   "metadata": {},
   "outputs": [
    {
     "name": "stdout",
     "output_type": "stream",
     "text": [
      "Remaining: ['10 of hearts', 'Ace of clubs', 'Ace of diamonds', '8 of spades', 'Ace of hearts', '4 of hearts', '4 of spades', '2 of spades', '2 of diamonds', '7 of hearts', 'Jack of diamonds', '8 of clubs', '5 of clubs', '9 of spades', '6 of diamonds', '3 of clubs', '6 of clubs', 'Jack of hearts', '3 of diamonds', '6 of spades', 'Queen of clubs', '5 of diamonds', '9 of diamonds', '2 of clubs', '9 of hearts', 'Queen of hearts', '8 of hearts', '6 of hearts', '4 of diamonds', '10 of diamonds', '5 of spades', '5 of hearts', 'Ace of spades', 'King of clubs', 'King of diamonds', '7 of diamonds', 'King of spades', '8 of diamonds', '9 of clubs', '3 of spades', '10 of spades', '3 of hearts', 'King of hearts', 'Queen of spades', '10 of clubs', 'Jack of clubs', '2 of hearts', '4 of clubs', '7 of clubs', 'Queen of diamonds']\n"
     ]
    }
   ],
   "source": [
    "deck = Deck()\n",
    "deck.shuffle()\n",
    "my_card = deck.deal()\n",
    "my_card = deck.deal()\n",
    "print('Remaining:', deck.get_remaining())"
   ]
  },
  {
   "cell_type": "code",
   "execution_count": null,
   "id": "08205cbf-338f-44ca-aaab-a94886b054e8",
   "metadata": {},
   "outputs": [],
   "source": []
  },
  {
   "cell_type": "code",
   "execution_count": null,
   "id": "8d6c58dd-62ed-4437-a021-ca3e3629da87",
   "metadata": {},
   "outputs": [],
   "source": []
  }
 ],
 "metadata": {
  "kernelspec": {
   "display_name": "Python 3 (ipykernel)",
   "language": "python",
   "name": "python3"
  },
  "language_info": {
   "codemirror_mode": {
    "name": "ipython",
    "version": 3
   },
   "file_extension": ".py",
   "mimetype": "text/x-python",
   "name": "python",
   "nbconvert_exporter": "python",
   "pygments_lexer": "ipython3",
   "version": "3.12.4"
  }
 },
 "nbformat": 4,
 "nbformat_minor": 5
}
