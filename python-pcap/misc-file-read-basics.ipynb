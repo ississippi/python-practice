{
 "cells": [
  {
   "cell_type": "code",
   "execution_count": 5,
   "id": "bcbf7556-5f12-4be3-9fc5-7cc78fbedb3a",
   "metadata": {},
   "outputs": [
    {
     "name": "stdout",
     "output_type": "stream",
     "text": [
      "PIG is a domestic animal.\n",
      "LION is a wild animal.\n",
      "FOX is a wild animal that is sometimes kept as a pet. \n"
     ]
    }
   ],
   "source": [
    "try:\n",
    "    stream = open('animals.txt')\n",
    "    print(stream.read())\n",
    "    stream.close()\n",
    "\n",
    "except Exception as e:\n",
    "    print('An error occurred: ', e)"
   ]
  },
  {
   "cell_type": "code",
   "execution_count": 9,
   "id": "ce698a5d-6da8-44a2-b89a-fa1faae802fd",
   "metadata": {},
   "outputs": [
    {
     "name": "stdout",
     "output_type": "stream",
     "text": [
      "PIG is a d\n",
      "omestic an\n"
     ]
    }
   ],
   "source": [
    "try:\n",
    "    stream = open('animals.txt')\n",
    "    print(stream.read(10))\n",
    "    print(stream.read(10))\n",
    "    stream.close()\n",
    "\n",
    "except Exception as e:\n",
    "    print('An error occurred: ', e)"
   ]
  },
  {
   "cell_type": "code",
   "execution_count": 11,
   "id": "c6f0da64-d5d3-488a-b72f-2330216b1931",
   "metadata": {},
   "outputs": [
    {
     "name": "stdout",
     "output_type": "stream",
     "text": [
      "PIG is a domestic animal.\n",
      "LION is a wild animal.\n",
      "FOX is a wild animal that is sometimes kept as a pet. \n",
      "\n"
     ]
    }
   ],
   "source": [
    "try:\n",
    "    stream = open('animals.txt')\n",
    "    print(stream.read(10000))\n",
    "    print(stream.read(10))\n",
    "    stream.close()\n",
    "\n",
    "except Exception as e:\n",
    "    print('An error occurred: ', e)"
   ]
  },
  {
   "cell_type": "code",
   "execution_count": 13,
   "id": "9e9ef6f9-6c11-4c95-b972-9355eaacd9e4",
   "metadata": {},
   "outputs": [
    {
     "name": "stdout",
     "output_type": "stream",
     "text": [
      "P-I-G- -i-s- -a- -d-o-m-e-s-t-i-c- -a-n-i-m-a-l-.-\n",
      "-L-I-O-N- -i-s- -a- -w-i-l-d- -a-n-i-m-a-l-.-\n",
      "-F-O-X- -i-s- -a- -w-i-l-d- -a-n-i-m-a-l- -t-h-a-t- -i-s- -s-o-m-e-t-i-m-e-s- -k-e-p-t- -a-s- -a- -p-e-t-.- -"
     ]
    }
   ],
   "source": [
    "try:\n",
    "    stream = open('animals.txt')\n",
    "    character = stream.read(1)\n",
    "    while character != '':\n",
    "        print(character, end='-')\n",
    "        character = stream.read(1)\n",
    "    stream.close()\n",
    "\n",
    "except Exception as e:\n",
    "    print('An error occurred: ', e)"
   ]
  },
  {
   "cell_type": "code",
   "execution_count": 15,
   "id": "911d7d9d-c358-43bb-87e1-3c71db923320",
   "metadata": {},
   "outputs": [
    {
     "name": "stdout",
     "output_type": "stream",
     "text": [
      "P-I-G- -i-s- -a- -d-o-m-e-s-t-i-c- -a-n-i-m-a-l-.-\n",
      "-L-I-O-N- -i-s- -a- -w-i-l-d- -a-n-i-m-a-l-.-\n",
      "-F-O-X- -i-s- -a- -w-i-l-d- -a-n-i-m-a-l- -t-h-a-t- -i-s- -s-o-m-e-t-i-m-e-s- -k-e-p-t- -a-s- -a- -p-e-t-.- -\n",
      "Number of characters: 103\n"
     ]
    }
   ],
   "source": [
    "try:\n",
    "    stream = open('animals.txt')\n",
    "    counter = 0\n",
    "    character = stream.read(1)\n",
    "    while character != '':\n",
    "        counter += 1\n",
    "        print(character, end='-')\n",
    "        character = stream.read(1)\n",
    "    stream.close()\n",
    "    print('\\nNumber of characters:', counter)\n",
    "except Exception as e:\n",
    "    print('An error occurred: ', e)"
   ]
  },
  {
   "cell_type": "code",
   "execution_count": 17,
   "id": "b29a347d-0fd1-4f23-bdb1-79def1c8a7c1",
   "metadata": {},
   "outputs": [
    {
     "name": "stdout",
     "output_type": "stream",
     "text": [
      "PIG is a domestic animal.\n",
      "-LION is a wild animal.\n",
      "-FOX is a wild animal that is sometimes kept as a pet. -\n",
      "Number of characters: 3\n"
     ]
    }
   ],
   "source": [
    "try:\n",
    "    stream = open('animals.txt')\n",
    "    counter = 0\n",
    "    line = stream.readline()\n",
    "    while line != '':\n",
    "        counter += 1\n",
    "        print(line, end='-')\n",
    "        line = stream.readline()\n",
    "    stream.close()\n",
    "    print('\\nNumber of characters:', counter)\n",
    "except Exception as e:\n",
    "    print('An error occurred: ', e)"
   ]
  },
  {
   "cell_type": "code",
   "execution_count": 19,
   "id": "7b17ab2b-eb51-434c-a39b-9f410cbeb4db",
   "metadata": {},
   "outputs": [
    {
     "name": "stdout",
     "output_type": "stream",
     "text": [
      "Content of the lines var: ['PIG is a domestic animal.\\n', 'LION is a wild animal.\\n', 'FOX is a wild animal that is sometimes kept as a pet. ']\n",
      "PIG is a domestic animal.\n",
      "LION is a wild animal.\n",
      "FOX is a wild animal that is sometimes kept as a pet. "
     ]
    }
   ],
   "source": [
    "try:\n",
    "    stream = open('animals.txt')\n",
    "    lines = stream.readlines()\n",
    "    print('Content of the lines var:', lines)\n",
    "    for line in lines:\n",
    "        print(line, end='')\n",
    "    stream.close()\n",
    "\n",
    "except Exception as e:\n",
    "    print('An error occurred: ', e)"
   ]
  },
  {
   "cell_type": "code",
   "execution_count": 42,
   "id": "7ef93794-2bef-40b6-90e5-97f9439be30f",
   "metadata": {},
   "outputs": [
    {
     "name": "stdout",
     "output_type": "stream",
     "text": [
      "PIG is a domestic animal.\n",
      "\n",
      "LION is a wild animal.\n",
      "\n",
      "FOX is a wild animal that is sometimes kept as a pet. \n"
     ]
    }
   ],
   "source": [
    "try:\n",
    "    stream = open('animals.txt')\n",
    "    lines = stream.readlines(2)\n",
    "    while len(lines) != 0:\n",
    "        for line in lines:\n",
    "            print(line, sep='')\n",
    "        lines = stream.readlines(2)\n",
    "    stream.close()\n",
    "\n",
    "except Exception as e:\n",
    "    print('An error occurred: ', e)"
   ]
  },
  {
   "cell_type": "code",
   "execution_count": 44,
   "id": "66c67028-d705-4288-9f91-e7e127423490",
   "metadata": {},
   "outputs": [
    {
     "name": "stdout",
     "output_type": "stream",
     "text": [
      "PIG is a domestic animal.\n",
      "LION is a wild animal.\n",
      "FOX is a wild animal that is sometimes kept as a pet. "
     ]
    }
   ],
   "source": [
    "try:\n",
    "    stream = open('animals.txt')\n",
    "    for line in stream:\n",
    "        print(line, end='')\n",
    "    stream.close()\n",
    "\n",
    "except Exception as e:\n",
    "    print('An error occurred: ', e)"
   ]
  },
  {
   "cell_type": "code",
   "execution_count": null,
   "id": "e3e64d91-d89b-4cff-abd3-9a00fdd134c4",
   "metadata": {},
   "outputs": [],
   "source": []
  }
 ],
 "metadata": {
  "kernelspec": {
   "display_name": "Python 3 (ipykernel)",
   "language": "python",
   "name": "python3"
  },
  "language_info": {
   "codemirror_mode": {
    "name": "ipython",
    "version": 3
   },
   "file_extension": ".py",
   "mimetype": "text/x-python",
   "name": "python",
   "nbconvert_exporter": "python",
   "pygments_lexer": "ipython3",
   "version": "3.12.4"
  }
 },
 "nbformat": 4,
 "nbformat_minor": 5
}
