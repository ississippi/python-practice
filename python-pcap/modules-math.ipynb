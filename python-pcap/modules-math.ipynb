{
 "cells": [
  {
   "cell_type": "code",
   "execution_count": 2,
   "id": "309df3b7-f394-4c83-aa5b-0f064e43c7a8",
   "metadata": {},
   "outputs": [
    {
     "name": "stdout",
     "output_type": "stream",
     "text": [
      "__doc__\t__loader__\t__name__\t__package__\t__spec__\tacos\tacosh\tasin\tasinh\tatan\tatan2\tatanh\tcbrt\tceil\tcomb\tcopysign\tcos\tcosh\tdegrees\tdist\te\terf\terfc\texp\texp2\texpm1\tfabs\tfactorial\tfloor\tfmod\tfrexp\tfsum\tgamma\tgcd\thypot\tinf\tisclose\tisfinite\tisinf\tisnan\tisqrt\tlcm\tldexp\tlgamma\tlog\tlog10\tlog1p\tlog2\tmodf\tnan\tnextafter\tperm\tpi\tpow\tprod\tradians\tremainder\tsin\tsinh\tsqrt\tsumprod\ttan\ttanh\ttau\ttrunc\tulp\t"
     ]
    }
   ],
   "source": [
    "import math\n",
    "for name in dir(math):\n",
    "    print(name, end='\\t')"
   ]
  },
  {
   "cell_type": "code",
   "execution_count": 6,
   "id": "402b365b-826e-4c8f-8cb2-6392766d28df",
   "metadata": {},
   "outputs": [
    {
     "name": "stdout",
     "output_type": "stream",
     "text": [
      "4\n",
      "3\n",
      "3\n"
     ]
    }
   ],
   "source": [
    "# ceil, floor, trunc\n",
    "print(math.ceil(3.6))\n",
    "print(math.floor(3.6))\n",
    "print(math.trunc(3.6))"
   ]
  },
  {
   "cell_type": "code",
   "execution_count": 12,
   "id": "1f9a2bab-f393-4483-a0ae-aa5c1d70e0b7",
   "metadata": {},
   "outputs": [
    {
     "name": "stdout",
     "output_type": "stream",
     "text": [
      "4\n",
      "4\n",
      "4\n",
      "3\n",
      "-5\n",
      "6\n"
     ]
    }
   ],
   "source": [
    "print(math.ceil(3.1))\n",
    "print(math.ceil(3.505))\n",
    "print(math.ceil(3.945))\n",
    "print(math.ceil(3.0))\n",
    "print(math.ceil(-5.4))\n",
    "print(math.ceil(5.4))"
   ]
  },
  {
   "cell_type": "code",
   "execution_count": 10,
   "id": "e6eba3de-0326-4670-b163-28d684dab6eb",
   "metadata": {},
   "outputs": [
    {
     "name": "stdout",
     "output_type": "stream",
     "text": [
      "3\n",
      "3\n",
      "3\n",
      "3\n",
      "-6\n",
      "5\n"
     ]
    }
   ],
   "source": [
    "print(math.floor(3.1))\n",
    "print(math.floor(3.505))\n",
    "print(math.floor(3.945))\n",
    "print(math.floor(3.0))\n",
    "print(math.floor(-5.4))\n",
    "print(math.floor(5.4))"
   ]
  },
  {
   "cell_type": "code",
   "execution_count": 14,
   "id": "6e32a7b8-797f-4b9b-9859-2ade89fc6ff3",
   "metadata": {},
   "outputs": [
    {
     "name": "stdout",
     "output_type": "stream",
     "text": [
      "3\n",
      "3\n",
      "3\n",
      "3\n",
      "-5\n",
      "5\n"
     ]
    }
   ],
   "source": [
    "print(math.trunc(3.1))\n",
    "print(math.trunc(3.505))\n",
    "print(math.trunc(3.945))\n",
    "print(math.trunc(3.0))\n",
    "print(math.trunc(-5.4))\n",
    "print(math.trunc(5.4))"
   ]
  },
  {
   "cell_type": "code",
   "execution_count": 16,
   "id": "20c50e61-47db-4c7c-9c74-f4ba6ec088af",
   "metadata": {},
   "outputs": [
    {
     "name": "stdout",
     "output_type": "stream",
     "text": [
      "6\n",
      "24\n"
     ]
    }
   ],
   "source": [
    "# factorial\n",
    "# 3! = 3 * 2 * 1 = 6\n",
    "# 4! = 4 * 3 * 2 * 1 - 24\n",
    "print(math.factorial(3))\n",
    "print(math.factorial(4))"
   ]
  },
  {
   "cell_type": "code",
   "execution_count": 18,
   "id": "5bd723ab-e9e5-476b-b866-b9706160de7b",
   "metadata": {},
   "outputs": [
    {
     "name": "stdout",
     "output_type": "stream",
     "text": [
      "4.0\n",
      "10.0\n"
     ]
    }
   ],
   "source": [
    "# sqrt\n",
    "print(math.sqrt(16))\n",
    "print(math.sqrt(100))"
   ]
  },
  {
   "cell_type": "code",
   "execution_count": 20,
   "id": "4ff4a67a-42a5-4dbb-b99d-727ab7048f6b",
   "metadata": {},
   "outputs": [
    {
     "name": "stdout",
     "output_type": "stream",
     "text": [
      "5.0\n"
     ]
    }
   ],
   "source": [
    "# hypot() - hypotenuse\n",
    "print(math.hypot(3,4))\n"
   ]
  },
  {
   "cell_type": "code",
   "execution_count": null,
   "id": "5e085ab9-3e17-46db-9036-7e4f14621481",
   "metadata": {},
   "outputs": [],
   "source": []
  }
 ],
 "metadata": {
  "kernelspec": {
   "display_name": "Python 3 (ipykernel)",
   "language": "python",
   "name": "python3"
  },
  "language_info": {
   "codemirror_mode": {
    "name": "ipython",
    "version": 3
   },
   "file_extension": ".py",
   "mimetype": "text/x-python",
   "name": "python",
   "nbconvert_exporter": "python",
   "pygments_lexer": "ipython3",
   "version": "3.12.4"
  }
 },
 "nbformat": 4,
 "nbformat_minor": 5
}
