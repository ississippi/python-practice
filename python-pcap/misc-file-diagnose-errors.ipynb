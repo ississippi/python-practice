{
 "cells": [
  {
   "cell_type": "code",
   "execution_count": 3,
   "id": "fd1a9971-0832-4cdc-9c53-98a8c9995e89",
   "metadata": {},
   "outputs": [
    {
     "name": "stdout",
     "output_type": "stream",
     "text": [
      "An error occurred: [Errno 2] No such file or directory: 'nonexistent.txt'\n"
     ]
    }
   ],
   "source": [
    "try:\n",
    "    stream = open('nonexistent.txt')\n",
    "    stream.close()\n",
    "\n",
    "except Exception as e:\n",
    "    print('An error occurred:', e)"
   ]
  },
  {
   "cell_type": "code",
   "execution_count": 5,
   "id": "6dfb48d9-71a9-4637-b22a-5445a075d722",
   "metadata": {},
   "outputs": [
    {
     "name": "stdout",
     "output_type": "stream",
     "text": [
      "2\n"
     ]
    }
   ],
   "source": [
    "try:\n",
    "    stream = open('nonexistent.txt')\n",
    "    stream.close()\n",
    "\n",
    "except Exception as e:\n",
    "    print(e.errno)"
   ]
  },
  {
   "cell_type": "code",
   "execution_count": 9,
   "id": "c28f30c8-2fb8-4e56-b696-0be593cf6370",
   "metadata": {},
   "outputs": [
    {
     "name": "stdout",
     "output_type": "stream",
     "text": [
      "No such file or directory\n"
     ]
    }
   ],
   "source": [
    "from os import strerror\n",
    "\n",
    "try:\n",
    "    stream = open('nonexistent.txt')\n",
    "    stream.close()\n",
    "\n",
    "except Exception as e:\n",
    "    print(strerror(e.errno))"
   ]
  },
  {
   "cell_type": "code",
   "execution_count": 11,
   "id": "ec92b051-4a51-471d-82da-568cde28847f",
   "metadata": {},
   "outputs": [
    {
     "name": "stdout",
     "output_type": "stream",
     "text": [
      "[0, 3, 6]\n"
     ]
    }
   ],
   "source": [
    "samp = [i + 2 * i for i in range(3)]\n",
    "print(samp)"
   ]
  },
  {
   "cell_type": "code",
   "execution_count": 17,
   "id": "ee69ccd2-33a0-40c8-a81e-3bd55edfcc49",
   "metadata": {},
   "outputs": [
    {
     "name": "stdout",
     "output_type": "stream",
     "text": [
      "0\n",
      "0\n",
      "1\n",
      "3\n",
      "2\n",
      "6\n"
     ]
    }
   ],
   "source": [
    "for i in range(3):\n",
    "    print(i)\n",
    "    print(i + 2 * i)\n",
    "    "
   ]
  },
  {
   "cell_type": "code",
   "execution_count": 19,
   "id": "b4d489e2-9338-439e-9002-b19054db9486",
   "metadata": {},
   "outputs": [
    {
     "name": "stdout",
     "output_type": "stream",
     "text": [
      "6\n"
     ]
    }
   ],
   "source": [
    "print(2 + 2 * 2)"
   ]
  },
  {
   "cell_type": "code",
   "execution_count": null,
   "id": "a2bcde59-0c7d-4a93-8716-f06bae0e39ce",
   "metadata": {},
   "outputs": [],
   "source": []
  }
 ],
 "metadata": {
  "kernelspec": {
   "display_name": "Python 3 (ipykernel)",
   "language": "python",
   "name": "python3"
  },
  "language_info": {
   "codemirror_mode": {
    "name": "ipython",
    "version": 3
   },
   "file_extension": ".py",
   "mimetype": "text/x-python",
   "name": "python",
   "nbconvert_exporter": "python",
   "pygments_lexer": "ipython3",
   "version": "3.12.4"
  }
 },
 "nbformat": 4,
 "nbformat_minor": 5
}
