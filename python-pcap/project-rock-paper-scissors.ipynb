{
 "cells": [
  {
   "cell_type": "code",
   "execution_count": 31,
   "id": "a8a4190c-3bac-4025-bb2f-d80eb563642c",
   "metadata": {},
   "outputs": [
    {
     "name": "stdout",
     "output_type": "stream",
     "text": [
      "--- Rock Paper Scissors Game ---\n"
     ]
    },
    {
     "name": "stdin",
     "output_type": "stream",
     "text": [
      "How many rounds would you like to play?  2\n",
      "Rock, paper or scissors [r/p/s]?  r\n"
     ]
    },
    {
     "name": "stdout",
     "output_type": "stream",
     "text": [
      "You: r  | Computer: r\n",
      "This round is a tie\n",
      "\n"
     ]
    },
    {
     "name": "stdin",
     "output_type": "stream",
     "text": [
      "Rock, paper or scissors [r/p/s]?  r\n"
     ]
    },
    {
     "name": "stdout",
     "output_type": "stream",
     "text": [
      "You: r  | Computer: s\n",
      "You won this round!\n",
      "\n",
      "[Game summary] Your points: 1  | Computer points: 0\n",
      "You won.\n"
     ]
    }
   ],
   "source": [
    "from random import choice\n",
    "\n",
    "class Game():\n",
    "\n",
    "    # r = rock, p = paper, s = scissors\n",
    "    OUTCOMES = {('s', 's'): 0, ('p', 'p'): 0, ('r', 'r'): 0, # tie\n",
    "                ('r', 'p'): -1, ('p', 's'): -1, ('s', 'r'): -1, # human player loses\n",
    "                ('p', 'r'): 1, ('s', 'p'): 1, ('r', 's'): 1} # human player wins\n",
    "\n",
    "    def __init__(self, num_rounds):\n",
    "        self.num_rounds = num_rounds\n",
    "        self.human_player = HumanPlayer()\n",
    "        self.comp_player = ComputerPlayer()\n",
    "\n",
    "    def play(self):\n",
    "        for i in range(self.num_rounds):\n",
    "            self.play_round()\n",
    "        self.summarise_score()\n",
    "    \n",
    "    def play_round(self):\n",
    "        human_choice = self.human_player.choose()\n",
    "        comp_choice = self.comp_player.choose()\n",
    "        print('You:', human_choice, ' | Computer:', comp_choice)\n",
    "        self.settle_round(human_choice, comp_choice)\n",
    "    \n",
    "    def settle_round(self, human_choice, comp_choice):\n",
    "        outcome = self.OUTCOMES[(human_choice, comp_choice)]\n",
    "        if outcome == 1:\n",
    "            print('You won this round!\\n')\n",
    "            self.human_player.score += 1\n",
    "        elif outcome == -1:\n",
    "            print('You lost this round!\\n')\n",
    "            self.comp_player.score += 1\n",
    "        else:\n",
    "            print('This round is a tie\\n')\n",
    "    \n",
    "    def summarise_score(self):\n",
    "        print('[Game summary] Your points:', self.human_player.score, ' | Computer points:', self.comp_player.score)\n",
    "        if self.human_player.score > self.comp_player.score:\n",
    "            print (\"You won.\")\n",
    "        elif self.human_player.score < self.comp_player.score:\n",
    "            print (\"Computer won.\")\n",
    "        else:\n",
    "            print (\"It was a tie.\")\n",
    "        \n",
    "class Player():\n",
    "    def __init__(self):\n",
    "        self.score = 0\n",
    "            \n",
    "class HumanPlayer(Player):\n",
    "    def choose(self):\n",
    "        while True:\n",
    "            user_choice = input('Rock, paper or scissors [r/p/s]? ')\n",
    "            if user_choice in ['r', 'p', 's']:\n",
    "                return user_choice\n",
    "\n",
    "class ComputerPlayer(Player):\n",
    "    def choose(self):\n",
    "        return choice(['r', 'p', 's'])\n",
    "\n",
    "if __name__ == '__main__':\n",
    "    print('--- Rock Paper Scissors Game ---')\n",
    "    while True:\n",
    "        round_count = input('How many rounds would you like to play? ')\n",
    "        if round_count.isnumeric():\n",
    "            Game(int(round_count)).play()\n",
    "            break"
   ]
  },
  {
   "cell_type": "code",
   "execution_count": null,
   "id": "8d6c6c33-25c1-42bc-ae90-c0d0573782ae",
   "metadata": {},
   "outputs": [],
   "source": []
  }
 ],
 "metadata": {
  "kernelspec": {
   "display_name": "Python 3 (ipykernel)",
   "language": "python",
   "name": "python3"
  },
  "language_info": {
   "codemirror_mode": {
    "name": "ipython",
    "version": 3
   },
   "file_extension": ".py",
   "mimetype": "text/x-python",
   "name": "python",
   "nbconvert_exporter": "python",
   "pygments_lexer": "ipython3",
   "version": "3.12.4"
  }
 },
 "nbformat": 4,
 "nbformat_minor": 5
}
