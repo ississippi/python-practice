{
 "cells": [
  {
   "cell_type": "code",
   "execution_count": 12,
   "id": "5c5dc2b5-723f-4fa7-9e70-814149bf86d1",
   "metadata": {},
   "outputs": [
    {
     "name": "stdin",
     "output_type": "stream",
     "text": [
      "Height converter: enter your height in cm:  192\n"
     ]
    },
    {
     "name": "stdout",
     "output_type": "stream",
     "text": [
      "Your height in feet is:  6.299212598425196\n"
     ]
    }
   ],
   "source": [
    "height_cm = input('Height converter: enter your height in cm: ')\n",
    "float_height_cm = float(height_cm)\n",
    "print ('Your height in feet is: ', float_height_cm/30.48)"
   ]
  },
  {
   "cell_type": "code",
   "execution_count": 20,
   "id": "efb0be3a-dece-4674-9528-d392705d21d7",
   "metadata": {},
   "outputs": [
    {
     "name": "stdin",
     "output_type": "stream",
     "text": [
      "Height converter: enter your height in cm: 192\n"
     ]
    },
    {
     "name": "stdout",
     "output_type": "stream",
     "text": [
      "Your height in feet is: 6.299212598425196\n"
     ]
    }
   ],
   "source": [
    "height_cm = float(input('Height converter: enter your height in cm:'))\n",
    "print('Your height in feet is:', height_cm / 30.48)"
   ]
  },
  {
   "cell_type": "code",
   "execution_count": 22,
   "id": "c71abc52-3219-47f2-82e0-9edee7dd4b2a",
   "metadata": {},
   "outputs": [
    {
     "name": "stdin",
     "output_type": "stream",
     "text": [
      "What year were you born? 1957\n"
     ]
    },
    {
     "name": "stdout",
     "output_type": "stream",
     "text": [
      "In 2100, you will be 143 years old, provided you live this long!\n"
     ]
    }
   ],
   "source": [
    "year_born = int(input('What year were you born?'))\n",
    "print('In 2100, you will be', 2100 - year_born, 'years old, provided you live this long!')"
   ]
  },
  {
   "cell_type": "code",
   "execution_count": null,
   "id": "6667f989-0b0b-4125-95f9-faee3e2f541b",
   "metadata": {},
   "outputs": [],
   "source": []
  }
 ],
 "metadata": {
  "kernelspec": {
   "display_name": "Python 3 (ipykernel)",
   "language": "python",
   "name": "python3"
  },
  "language_info": {
   "codemirror_mode": {
    "name": "ipython",
    "version": 3
   },
   "file_extension": ".py",
   "mimetype": "text/x-python",
   "name": "python",
   "nbconvert_exporter": "python",
   "pygments_lexer": "ipython3",
   "version": "3.12.4"
  }
 },
 "nbformat": 4,
 "nbformat_minor": 5
}
