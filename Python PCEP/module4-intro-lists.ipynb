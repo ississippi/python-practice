{
 "cells": [
  {
   "cell_type": "code",
   "execution_count": 6,
   "id": "cf2686dc-74d6-4676-ae42-7bd4657e1e92",
   "metadata": {},
   "outputs": [],
   "source": [
    "# 0 based\n",
    "list_a = []\n",
    "# can use negative index to get the end\n",
    "# [-1] = last element\n",
    "# [-2] = 2nd to last, etc\n",
    "\n",
    "#===============SLICING==================\n",
    "#top_cities[0:2]\n",
    "# gets you the first and secon elements\n",
    "# the second parm is the end exclusive\n",
    "# it's like a range\n",
    "#top_cities[2:] # gets from [2] to the end\n"
   ]
  },
  {
   "cell_type": "code",
   "execution_count": null,
   "id": "45394338-10cc-45e6-abfd-e702a071b2de",
   "metadata": {},
   "outputs": [],
   "source": []
  }
 ],
 "metadata": {
  "kernelspec": {
   "display_name": "Python 3 (ipykernel)",
   "language": "python",
   "name": "python3"
  },
  "language_info": {
   "codemirror_mode": {
    "name": "ipython",
    "version": 3
   },
   "file_extension": ".py",
   "mimetype": "text/x-python",
   "name": "python",
   "nbconvert_exporter": "python",
   "pygments_lexer": "ipython3",
   "version": "3.12.4"
  }
 },
 "nbformat": 4,
 "nbformat_minor": 5
}
