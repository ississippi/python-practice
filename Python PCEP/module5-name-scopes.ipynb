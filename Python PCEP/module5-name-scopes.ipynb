{
 "cells": [
  {
   "cell_type": "code",
   "execution_count": 12,
   "id": "ce21c1b6-4f90-43f1-9fdc-26522ab0df54",
   "metadata": {},
   "outputs": [
    {
     "name": "stdout",
     "output_type": "stream",
     "text": [
      "New surprise!\n",
      "Surprise!\n"
     ]
    }
   ],
   "source": [
    "# Shadowing\n",
    "def show_truth():\n",
    "    mysterious_var = 'New surprise!' # local variable\n",
    "    print(mysterious_var)\n",
    "mysterious_var = 'Surprise!' # global variable\n",
    "show_truth()\n",
    "print(mysterious_var)"
   ]
  },
  {
   "cell_type": "code",
   "execution_count": 20,
   "id": "b258cdad-2f28-4f83-8c58-ba76482fbc49",
   "metadata": {},
   "outputs": [
    {
     "name": "stdout",
     "output_type": "stream",
     "text": [
      "New surprise!\n",
      "New surprise!\n"
     ]
    }
   ],
   "source": [
    "# using the global keyword - does more harm than good.\n",
    "def show_truth():\n",
    "    global mysterious_var \n",
    "    mysterious_var = 'New surprise!' # local variable\n",
    "    print(mysterious_var)\n",
    "mysterious_var = 'Surprise!' # global variable\n",
    "show_truth()\n",
    "print(mysterious_var)"
   ]
  },
  {
   "cell_type": "code",
   "execution_count": 24,
   "id": "ae7fbe69-b3f2-46b0-9fc8-33ef39c31a92",
   "metadata": {},
   "outputs": [
    {
     "name": "stdout",
     "output_type": "stream",
     "text": [
      "['Surprise!', 'New surprise!']\n",
      "['Surprise!', 'New surprise!']\n"
     ]
    }
   ],
   "source": [
    "# Shadowing with a list. if you assign a new list then you modify a local var, but if you change it with a method like appaend(), updates the global\n",
    "def show_truth():\n",
    "    mysterious_var.append('New surprise!')   # works on global without global keyword\n",
    "    print(mysterious_var)\n",
    "mysterious_var = ['Surprise!'] # global variable\n",
    "show_truth()\n",
    "print(mysterious_var)"
   ]
  },
  {
   "cell_type": "code",
   "execution_count": null,
   "id": "d67d219d-c54e-4cfd-9820-b3c9529455c6",
   "metadata": {},
   "outputs": [],
   "source": []
  }
 ],
 "metadata": {
  "kernelspec": {
   "display_name": "Python 3 (ipykernel)",
   "language": "python",
   "name": "python3"
  },
  "language_info": {
   "codemirror_mode": {
    "name": "ipython",
    "version": 3
   },
   "file_extension": ".py",
   "mimetype": "text/x-python",
   "name": "python",
   "nbconvert_exporter": "python",
   "pygments_lexer": "ipython3",
   "version": "3.12.4"
  }
 },
 "nbformat": 4,
 "nbformat_minor": 5
}
