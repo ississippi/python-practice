{
 "cells": [
  {
   "cell_type": "code",
   "execution_count": 2,
   "id": "a61c2877-504e-4c04-a8e7-4ef59c735fcf",
   "metadata": {},
   "outputs": [],
   "source": [
    "def get_number():\n",
    "    for i in range(1, 4):\n",
    "        yield i"
   ]
  },
  {
   "cell_type": "code",
   "execution_count": 6,
   "id": "e7b4f519-5e58-4eed-bdb4-54baed10de57",
   "metadata": {},
   "outputs": [
    {
     "name": "stdout",
     "output_type": "stream",
     "text": [
      "<generator object get_number at 0x000001FA039EEE90>\n"
     ]
    }
   ],
   "source": [
    "print(get_number())"
   ]
  },
  {
   "cell_type": "code",
   "execution_count": 12,
   "id": "3b27d7e9-7f16-41e8-b27d-66b902bd5497",
   "metadata": {},
   "outputs": [
    {
     "name": "stdout",
     "output_type": "stream",
     "text": [
      "1\n",
      "2\n",
      "3\n"
     ]
    }
   ],
   "source": [
    "generator = get_number()\n",
    "print(next(generator))\n",
    "print(next(generator))\n",
    "print(next(generator))"
   ]
  },
  {
   "cell_type": "code",
   "execution_count": 14,
   "id": "1e96ae9a-885e-4f52-ade9-c842ac841ddd",
   "metadata": {},
   "outputs": [
    {
     "name": "stdout",
     "output_type": "stream",
     "text": [
      "1\n",
      "2\n",
      "3\n"
     ]
    }
   ],
   "source": [
    "for x in get_number():\n",
    "    print(x)"
   ]
  },
  {
   "cell_type": "code",
   "execution_count": 20,
   "id": "47f32c81-164f-4ab8-9a1d-2ccc01c46df8",
   "metadata": {},
   "outputs": [
    {
     "name": "stdout",
     "output_type": "stream",
     "text": [
      "[1, 2, 3]\n"
     ]
    }
   ],
   "source": [
    "numbers = list(get_number())\n",
    "print(numbers)"
   ]
  },
  {
   "cell_type": "code",
   "execution_count": null,
   "id": "a55cf03a-604e-4ab8-9fee-bac23e64ef57",
   "metadata": {},
   "outputs": [],
   "source": []
  }
 ],
 "metadata": {
  "kernelspec": {
   "display_name": "Python 3 (ipykernel)",
   "language": "python",
   "name": "python3"
  },
  "language_info": {
   "codemirror_mode": {
    "name": "ipython",
    "version": 3
   },
   "file_extension": ".py",
   "mimetype": "text/x-python",
   "name": "python",
   "nbconvert_exporter": "python",
   "pygments_lexer": "ipython3",
   "version": "3.12.4"
  }
 },
 "nbformat": 4,
 "nbformat_minor": 5
}
