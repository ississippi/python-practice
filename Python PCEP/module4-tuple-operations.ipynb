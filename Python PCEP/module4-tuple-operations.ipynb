{
 "cells": [
  {
   "cell_type": "code",
   "execution_count": 4,
   "id": "4961324f-0996-4174-9f9d-a7f3f8f89725",
   "metadata": {},
   "outputs": [
    {
     "name": "stdout",
     "output_type": "stream",
     "text": [
      "3\n"
     ]
    }
   ],
   "source": [
    "user_data = ('Katya', 'Russian', 1980)\n",
    "print(len(user_data))"
   ]
  },
  {
   "cell_type": "code",
   "execution_count": 8,
   "id": "edf6761b-7ec8-4ac8-a9d2-44a7a424bb63",
   "metadata": {},
   "outputs": [
    {
     "name": "stdout",
     "output_type": "stream",
     "text": [
      "This person is from Russia!\n"
     ]
    }
   ],
   "source": [
    "user_data = ('Katya', 'Russian', 1980)\n",
    "if 'Russian' in user_data:\n",
    "    print('This person is from Russia!')"
   ]
  },
  {
   "cell_type": "code",
   "execution_count": 12,
   "id": "69dbc1c9-4aa5-416e-91c3-8e0056cd78a7",
   "metadata": {},
   "outputs": [
    {
     "name": "stdout",
     "output_type": "stream",
     "text": [
      "Katya\n",
      "Russian\n",
      "1980\n"
     ]
    }
   ],
   "source": [
    "user_data = ('Katya', 'Russian', 1980)\n",
    "for element in user_data:\n",
    "    print(element)"
   ]
  },
  {
   "cell_type": "code",
   "execution_count": null,
   "id": "bcd9a369-28e4-4f2e-a7c6-11577699b9ae",
   "metadata": {},
   "outputs": [],
   "source": []
  }
 ],
 "metadata": {
  "kernelspec": {
   "display_name": "Python 3 (ipykernel)",
   "language": "python",
   "name": "python3"
  },
  "language_info": {
   "codemirror_mode": {
    "name": "ipython",
    "version": 3
   },
   "file_extension": ".py",
   "mimetype": "text/x-python",
   "name": "python",
   "nbconvert_exporter": "python",
   "pygments_lexer": "ipython3",
   "version": "3.12.4"
  }
 },
 "nbformat": 4,
 "nbformat_minor": 5
}
