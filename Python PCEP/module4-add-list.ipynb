{
 "cells": [
  {
   "cell_type": "code",
   "execution_count": 4,
   "id": "80de2717-df4b-4ee7-9198-24bde252a56f",
   "metadata": {},
   "outputs": [
    {
     "name": "stdout",
     "output_type": "stream",
     "text": [
      "Hello\n"
     ]
    }
   ],
   "source": [
    "print('Hello')"
   ]
  },
  {
   "cell_type": "code",
   "execution_count": 6,
   "id": "8e4f9ef8-9091-4a85-8c69-a2fdfe8e96db",
   "metadata": {},
   "outputs": [
    {
     "name": "stdout",
     "output_type": "stream",
     "text": [
      "[7, 8, 9, 2, 1, 6]\n"
     ]
    }
   ],
   "source": [
    "book_ratings = [7,8,9,2,1]\n",
    "book_ratings.append(6)\n",
    "print(book_ratings)"
   ]
  },
  {
   "cell_type": "code",
   "execution_count": 10,
   "id": "8dfe1c7f-2138-43f4-b6e7-c9a13577cf4d",
   "metadata": {},
   "outputs": [
    {
     "name": "stdout",
     "output_type": "stream",
     "text": [
      "[7, 10, 8, 9, 2, 1]\n"
     ]
    }
   ],
   "source": [
    "book_ratings = [7,8,9,2,1]\n",
    "book_ratings.insert(1,10)\n",
    "print(book_ratings)"
   ]
  },
  {
   "cell_type": "code",
   "execution_count": null,
   "id": "9d207a5e-07bb-4ffd-bf1c-5ac43d06ce54",
   "metadata": {},
   "outputs": [],
   "source": []
  }
 ],
 "metadata": {
  "kernelspec": {
   "display_name": "Python 3 (ipykernel)",
   "language": "python",
   "name": "python3"
  },
  "language_info": {
   "codemirror_mode": {
    "name": "ipython",
    "version": 3
   },
   "file_extension": ".py",
   "mimetype": "text/x-python",
   "name": "python",
   "nbconvert_exporter": "python",
   "pygments_lexer": "ipython3",
   "version": "3.12.4"
  }
 },
 "nbformat": 4,
 "nbformat_minor": 5
}
