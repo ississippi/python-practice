{
 "cells": [
  {
   "cell_type": "code",
   "execution_count": 2,
   "id": "fbd9193d-b78b-4ea4-936c-79ed01058e0d",
   "metadata": {},
   "outputs": [
    {
     "name": "stdout",
     "output_type": "stream",
     "text": [
      "Current city: a\n",
      "Current city: b\n",
      "Current city: c\n",
      "Current city: d\n",
      "Current city: e\n"
     ]
    }
   ],
   "source": [
    "top_cities = ('a','b','c','d','e')\n",
    "for city in top_cities:\n",
    "    print('Current city:', city)"
   ]
  },
  {
   "cell_type": "code",
   "execution_count": 6,
   "id": "cb367278-4298-4ae7-a8c6-9166f3add11b",
   "metadata": {},
   "outputs": [
    {
     "name": "stdout",
     "output_type": "stream",
     "text": [
      "Current index: 0 | Current city: a\n",
      "Current index: 1 | Current city: b\n",
      "Current index: 2 | Current city: c\n",
      "Current index: 3 | Current city: d\n",
      "Current index: 4 | Current city: e\n"
     ]
    }
   ],
   "source": [
    "top_cities = ('a','b','c','d','e')\n",
    "for city_index in range(len(top_cities)):\n",
    "    print('Current index:', city_index, '| Current city:', top_cities[city_index],)"
   ]
  },
  {
   "cell_type": "code",
   "execution_count": 8,
   "id": "9a760760-0ec5-4d11-99ee-03e53b643ebf",
   "metadata": {},
   "outputs": [
    {
     "name": "stdout",
     "output_type": "stream",
     "text": [
      "Money spent: 158.1\n"
     ]
    }
   ],
   "source": [
    "spendings = (32.45, 18.65, 23.45, 78.32, 5.23)\n",
    "sum = 0.0\n",
    "for spending in spendings:\n",
    "    sum += spending\n",
    "print('Money spent:', sum)"
   ]
  },
  {
   "cell_type": "code",
   "execution_count": null,
   "id": "fec7b494-5de6-4689-aded-622a8c6ea99c",
   "metadata": {},
   "outputs": [],
   "source": []
  }
 ],
 "metadata": {
  "kernelspec": {
   "display_name": "Python 3 (ipykernel)",
   "language": "python",
   "name": "python3"
  },
  "language_info": {
   "codemirror_mode": {
    "name": "ipython",
    "version": 3
   },
   "file_extension": ".py",
   "mimetype": "text/x-python",
   "name": "python",
   "nbconvert_exporter": "python",
   "pygments_lexer": "ipython3",
   "version": "3.12.4"
  }
 },
 "nbformat": 4,
 "nbformat_minor": 5
}
