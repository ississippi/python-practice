{
 "cells": [
  {
   "cell_type": "code",
   "execution_count": 2,
   "id": "4c68da70-bf03-4e6a-bb33-2f05254bd8c7",
   "metadata": {},
   "outputs": [
    {
     "name": "stdout",
     "output_type": "stream",
     "text": [
      "hello\n"
     ]
    }
   ],
   "source": [
    "print('hello')"
   ]
  },
  {
   "cell_type": "code",
   "execution_count": 6,
   "id": "11071f31-737d-49e9-881c-30cbedeac290",
   "metadata": {},
   "outputs": [],
   "source": [
    "length = len('hello')"
   ]
  },
  {
   "cell_type": "code",
   "execution_count": 8,
   "id": "d013e676-d54a-4026-a145-2bde74b95ef6",
   "metadata": {},
   "outputs": [
    {
     "name": "stdin",
     "output_type": "stream",
     "text": [
      "what is the number? 5\n"
     ]
    }
   ],
   "source": [
    "number = input('what is the number?')"
   ]
  },
  {
   "cell_type": "code",
   "execution_count": 10,
   "id": "23d9cc47-c46f-489a-ad5d-067a4e8d285b",
   "metadata": {},
   "outputs": [
    {
     "name": "stdout",
     "output_type": "stream",
     "text": [
      "hello\n",
      "None\n"
     ]
    }
   ],
   "source": [
    "print_return = print('hello')\n",
    "print(print_return)"
   ]
  },
  {
   "cell_type": "code",
   "execution_count": 12,
   "id": "db1bcc48-8d91-45b9-9beb-f76d983133b8",
   "metadata": {},
   "outputs": [
    {
     "name": "stdout",
     "output_type": "stream",
     "text": [
      "None is not True, or False, None is just None\n"
     ]
    }
   ],
   "source": [
    "x = None\n",
    "if x:\n",
    "    print('None is True')\n",
    "elif x is False:\n",
    "    print('None is False')\n",
    "else: \n",
    "    print('None is not True, or False, None is just None')"
   ]
  },
  {
   "cell_type": "code",
   "execution_count": 14,
   "id": "8b8b3fe4-30a6-4078-a9e6-9ed27c8d422b",
   "metadata": {},
   "outputs": [
    {
     "name": "stdout",
     "output_type": "stream",
     "text": [
      "yes\n",
      "It does\n"
     ]
    }
   ],
   "source": [
    "x = None\n",
    "if x is None:\n",
    "    print('yes')\n",
    "if x == None:\n",
    "    print('It does')"
   ]
  },
  {
   "cell_type": "code",
   "execution_count": null,
   "id": "27cab82e-6d47-4a52-9be0-48592263bc4c",
   "metadata": {},
   "outputs": [],
   "source": []
  }
 ],
 "metadata": {
  "kernelspec": {
   "display_name": "Python 3 (ipykernel)",
   "language": "python",
   "name": "python3"
  },
  "language_info": {
   "codemirror_mode": {
    "name": "ipython",
    "version": 3
   },
   "file_extension": ".py",
   "mimetype": "text/x-python",
   "name": "python",
   "nbconvert_exporter": "python",
   "pygments_lexer": "ipython3",
   "version": "3.12.4"
  }
 },
 "nbformat": 4,
 "nbformat_minor": 5
}
