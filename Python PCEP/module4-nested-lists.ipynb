{
 "cells": [
  {
   "cell_type": "code",
   "execution_count": 2,
   "id": "033157bd-97bd-4eff-bca9-02ded525bf8d",
   "metadata": {},
   "outputs": [],
   "source": [
    "numbers = [1,2,3,4]"
   ]
  },
  {
   "cell_type": "code",
   "execution_count": 4,
   "id": "44726646-960d-4d24-bbd9-774688ac45d2",
   "metadata": {},
   "outputs": [],
   "source": [
    "countries = ['UK','US','Germany']"
   ]
  },
  {
   "cell_type": "code",
   "execution_count": 6,
   "id": "2bf5ea0e-a00a-4930-9865-6b8aa39fb006",
   "metadata": {},
   "outputs": [],
   "source": [
    "countries = [1, 'UK', 2, 'US']"
   ]
  },
  {
   "cell_type": "code",
   "execution_count": 8,
   "id": "c45e4ca2-65cb-43dc-9f06-2bdd39b4f8d9",
   "metadata": {},
   "outputs": [],
   "source": [
    "cells = [['A1', 'A2', 'A3'], ['B1','B2','B3']]"
   ]
  },
  {
   "cell_type": "code",
   "execution_count": 10,
   "id": "3f4739ed-0d3f-4828-b4e6-358ea9685958",
   "metadata": {},
   "outputs": [
    {
     "data": {
      "text/plain": [
       "['A1', 'A2', 'A3']"
      ]
     },
     "execution_count": 10,
     "metadata": {},
     "output_type": "execute_result"
    }
   ],
   "source": [
    "cells[0]"
   ]
  },
  {
   "cell_type": "code",
   "execution_count": 14,
   "id": "474f654a-dbfc-4b92-b4dd-82c06a6cd553",
   "metadata": {},
   "outputs": [
    {
     "data": {
      "text/plain": [
       "'A1'"
      ]
     },
     "execution_count": 14,
     "metadata": {},
     "output_type": "execute_result"
    }
   ],
   "source": [
    "cells[0][0]"
   ]
  },
  {
   "cell_type": "code",
   "execution_count": 16,
   "id": "ef05f1cd-4604-4d9e-a5e0-408ec14e04c7",
   "metadata": {},
   "outputs": [
    {
     "data": {
      "text/plain": [
       "'A2'"
      ]
     },
     "execution_count": 16,
     "metadata": {},
     "output_type": "execute_result"
    }
   ],
   "source": [
    "cells[0][1]"
   ]
  },
  {
   "cell_type": "code",
   "execution_count": 18,
   "id": "e07564e4-579d-4807-b01c-4271de8d9754",
   "metadata": {},
   "outputs": [
    {
     "data": {
      "text/plain": [
       "'B3'"
      ]
     },
     "execution_count": 18,
     "metadata": {},
     "output_type": "execute_result"
    }
   ],
   "source": [
    "cells[1][2]"
   ]
  },
  {
   "cell_type": "code",
   "execution_count": 20,
   "id": "bfff78a8-ae01-4f61-a70a-5f9d9d8efc09",
   "metadata": {},
   "outputs": [
    {
     "name": "stdout",
     "output_type": "stream",
     "text": [
      "Elements: ['A1', 'A2', 'A3']\n",
      "Elements: ['B1', 'B2', 'B3']\n"
     ]
    }
   ],
   "source": [
    "cells = [['A1', 'A2', 'A3'], ['B1','B2','B3']]\n",
    "for x in cells:\n",
    "    print('Elements:', x)"
   ]
  },
  {
   "cell_type": "code",
   "execution_count": 22,
   "id": "8a623c0c-512a-41b6-b399-64518ca092ff",
   "metadata": {},
   "outputs": [
    {
     "name": "stdout",
     "output_type": "stream",
     "text": [
      "Element: A1\n",
      "Element: A2\n",
      "Element: A3\n",
      "Element: B1\n",
      "Element: B2\n",
      "Element: B3\n"
     ]
    }
   ],
   "source": [
    "cells = [['A1', 'A2', 'A3'], ['B1','B2','B3']]\n",
    "for x in cells:\n",
    "    for y in x:\n",
    "        print('Element:', y)"
   ]
  },
  {
   "cell_type": "code",
   "execution_count": 30,
   "id": "bd20ffc6-ae41-4401-a3e1-6f13605089ad",
   "metadata": {},
   "outputs": [
    {
     "name": "stdout",
     "output_type": "stream",
     "text": [
      "A1 A2 A3 \n",
      "B1 B2 B3 \n"
     ]
    }
   ],
   "source": [
    "table = [['A1', 'A2', 'A3'], ['B1','B2','B3']]\n",
    "for row in table:\n",
    "    for cell in row:\n",
    "        print(cell, '', end='')\n",
    "    print()"
   ]
  },
  {
   "cell_type": "code",
   "execution_count": null,
   "id": "6c156293-4b77-46e7-ace2-d30f7fc50132",
   "metadata": {},
   "outputs": [],
   "source": [
    "table = [['A1', 'A2', 'A3'], ['B1','B2','B3']]\n",
    "for row in table:\n",
    "    for cell in row:\n",
    "        print('Element:', cell)"
   ]
  },
  {
   "cell_type": "code",
   "execution_count": 36,
   "id": "59b95a30-9543-448d-b2b5-e849ebab6143",
   "metadata": {},
   "outputs": [
    {
     "name": "stdout",
     "output_type": "stream",
     "text": [
      "[[1, 2, 3, 4, 5], [1, 2, 3, 4, 5], [1, 2, 3, 4, 5], [1, 2, 3, 4, 5], [1, 2, 3, 4, 5]]\n"
     ]
    }
   ],
   "source": [
    "table = [[i for i in range(1, 6)] for j in range(5)]\n",
    "print(table)"
   ]
  },
  {
   "cell_type": "code",
   "execution_count": null,
   "id": "4799dc2a-e2f8-449d-90a2-14f0dd850254",
   "metadata": {},
   "outputs": [],
   "source": []
  }
 ],
 "metadata": {
  "kernelspec": {
   "display_name": "Python 3 (ipykernel)",
   "language": "python",
   "name": "python3"
  },
  "language_info": {
   "codemirror_mode": {
    "name": "ipython",
    "version": 3
   },
   "file_extension": ".py",
   "mimetype": "text/x-python",
   "name": "python",
   "nbconvert_exporter": "python",
   "pygments_lexer": "ipython3",
   "version": "3.12.4"
  }
 },
 "nbformat": 4,
 "nbformat_minor": 5
}
