{
 "cells": [
  {
   "cell_type": "code",
   "execution_count": 4,
   "id": "91e6ae74-06ff-4d31-acf7-590c799c2b2d",
   "metadata": {},
   "outputs": [
    {
     "name": "stdout",
     "output_type": "stream",
     "text": [
      "Hello-How are you?."
     ]
    }
   ],
   "source": [
    "print('Hello', 'How are you?', end='.', sep='-')"
   ]
  },
  {
   "cell_type": "code",
   "execution_count": 10,
   "id": "df624b21-be65-4e29-a1b5-2967ba207f82",
   "metadata": {},
   "outputs": [],
   "source": [
    "def print_letter_count(text, letter='a'):\n",
    "    counter = 0\n",
    "    for char in text:\n",
    "        if char == letter:\n",
    "            counter += 1\n",
    "    print('Number of', letter, 'is', counter)"
   ]
  },
  {
   "cell_type": "code",
   "execution_count": 14,
   "id": "4f8c1465-0962-42dc-bdfd-74ee7be5d180",
   "metadata": {},
   "outputs": [],
   "source": [
    "# positional arguments must appear first\n"
   ]
  },
  {
   "cell_type": "code",
   "execution_count": null,
   "id": "4952d4c8-9cf5-475e-ba32-94f13813ffbd",
   "metadata": {},
   "outputs": [],
   "source": []
  }
 ],
 "metadata": {
  "kernelspec": {
   "display_name": "Python 3 (ipykernel)",
   "language": "python",
   "name": "python3"
  },
  "language_info": {
   "codemirror_mode": {
    "name": "ipython",
    "version": 3
   },
   "file_extension": ".py",
   "mimetype": "text/x-python",
   "name": "python",
   "nbconvert_exporter": "python",
   "pygments_lexer": "ipython3",
   "version": "3.12.4"
  }
 },
 "nbformat": 4,
 "nbformat_minor": 5
}
