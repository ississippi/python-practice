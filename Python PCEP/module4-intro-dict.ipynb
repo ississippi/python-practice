{
 "cells": [
  {
   "cell_type": "code",
   "execution_count": 2,
   "id": "68e83e21-b246-4a6d-b02c-ace6e321cc02",
   "metadata": {},
   "outputs": [],
   "source": [
    "emails = {\n",
    "    'Gary Smith': 'ississippi@outlook.com',\n",
    "    'John Smith': 'John@outlook.com',\n",
    "    'Mary Smith': 'Mary@outlook.com'\n",
    "}"
   ]
  },
  {
   "cell_type": "code",
   "execution_count": 4,
   "id": "081966e8-51b5-478a-8e42-87982523b750",
   "metadata": {},
   "outputs": [
    {
     "name": "stdout",
     "output_type": "stream",
     "text": [
      "ississippi@outlook.com\n"
     ]
    }
   ],
   "source": [
    "print(emails['Gary Smith'])"
   ]
  },
  {
   "cell_type": "code",
   "execution_count": null,
   "id": "191dc1d8-4ded-406d-9299-1e4a620122bc",
   "metadata": {},
   "outputs": [],
   "source": []
  }
 ],
 "metadata": {
  "kernelspec": {
   "display_name": "Python 3 (ipykernel)",
   "language": "python",
   "name": "python3"
  },
  "language_info": {
   "codemirror_mode": {
    "name": "ipython",
    "version": 3
   },
   "file_extension": ".py",
   "mimetype": "text/x-python",
   "name": "python",
   "nbconvert_exporter": "python",
   "pygments_lexer": "ipython3",
   "version": "3.12.4"
  }
 },
 "nbformat": 4,
 "nbformat_minor": 5
}
