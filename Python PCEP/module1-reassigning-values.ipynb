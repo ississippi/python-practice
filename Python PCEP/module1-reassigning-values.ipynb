{
 "cells": [
  {
   "cell_type": "code",
   "execution_count": 2,
   "id": "31522300-5395-4bda-b795-14570a41990b",
   "metadata": {},
   "outputs": [
    {
     "name": "stdout",
     "output_type": "stream",
     "text": [
      "28\n"
     ]
    }
   ],
   "source": [
    "age = 28\n",
    "print(age)"
   ]
  },
  {
   "cell_type": "code",
   "execution_count": 4,
   "id": "a4529179-ba03-4ce2-982b-692cd5952543",
   "metadata": {},
   "outputs": [
    {
     "name": "stdout",
     "output_type": "stream",
     "text": [
      "33\n"
     ]
    }
   ],
   "source": [
    "age = 28\n",
    "new_age = age + 5\n",
    "print(new_age)"
   ]
  },
  {
   "cell_type": "code",
   "execution_count": 6,
   "id": "42880f0e-b0b1-4cf1-b961-ad29ca42d5ca",
   "metadata": {},
   "outputs": [
    {
     "name": "stdout",
     "output_type": "stream",
     "text": [
      "35\n"
     ]
    }
   ],
   "source": [
    "age = 28\n",
    "age += 7\n",
    "print(age)"
   ]
  },
  {
   "cell_type": "code",
   "execution_count": 8,
   "id": "792943d7-65cb-464b-ab77-5e74808b90f8",
   "metadata": {},
   "outputs": [
    {
     "name": "stdout",
     "output_type": "stream",
     "text": [
      "hocuspokus\n"
     ]
    }
   ],
   "source": [
    "text = 'hocus' + 'pokus'\n",
    "print(text)"
   ]
  },
  {
   "cell_type": "code",
   "execution_count": 10,
   "id": "62b53138-103a-4009-82e2-28a9efdc637c",
   "metadata": {},
   "outputs": [
    {
     "name": "stdout",
     "output_type": "stream",
     "text": [
      "hokushokushokushokushokus\n"
     ]
    }
   ],
   "source": [
    "print('hokus' * 5)"
   ]
  },
  {
   "cell_type": "code",
   "execution_count": 12,
   "id": "a7085dd4-6173-4d61-b537-1553740cd85c",
   "metadata": {},
   "outputs": [
    {
     "name": "stdout",
     "output_type": "stream",
     "text": [
      "235\n"
     ]
    }
   ],
   "source": [
    "print('23' + '5')"
   ]
  },
  {
   "cell_type": "code",
   "execution_count": null,
   "id": "4c9b346e-52ac-4cff-87e1-e32e2dfeb041",
   "metadata": {},
   "outputs": [],
   "source": []
  }
 ],
 "metadata": {
  "kernelspec": {
   "display_name": "Python 3 (ipykernel)",
   "language": "python",
   "name": "python3"
  },
  "language_info": {
   "codemirror_mode": {
    "name": "ipython",
    "version": 3
   },
   "file_extension": ".py",
   "mimetype": "text/x-python",
   "name": "python",
   "nbconvert_exporter": "python",
   "pygments_lexer": "ipython3",
   "version": "3.12.4"
  }
 },
 "nbformat": 4,
 "nbformat_minor": 5
}
