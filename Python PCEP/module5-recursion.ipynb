{
 "cells": [
  {
   "cell_type": "code",
   "execution_count": 16,
   "id": "10ada0c9-aa75-40fa-8a55-9945c2836780",
   "metadata": {},
   "outputs": [],
   "source": [
    "# factorial\n",
    "# multiplication of all the numbers from 1 to the number\n",
    "# 3! = 1 * 2 * 3 = 6\n",
    "# 5! = 1 * 2 * 3 *4 * 5 = 120"
   ]
  },
  {
   "cell_type": "code",
   "execution_count": 22,
   "id": "f8583f87-4a1c-4ac3-afe9-60dc7069e50f",
   "metadata": {},
   "outputs": [],
   "source": [
    "# without recursion\n",
    "def get_factorial(number):\n",
    "    factorial = 1\n",
    "    for x in range(1, number + 1):\n",
    "        factorial *= x\n",
    "    return factorial"
   ]
  },
  {
   "cell_type": "code",
   "execution_count": 24,
   "id": "f9fcbdc1-7dcb-4e0d-bcfe-09713a9a256f",
   "metadata": {},
   "outputs": [
    {
     "name": "stdout",
     "output_type": "stream",
     "text": [
      "720\n"
     ]
    }
   ],
   "source": [
    "print(get_factorial(6))"
   ]
  },
  {
   "cell_type": "code",
   "execution_count": 26,
   "id": "d6fb6211-145a-4f51-9379-cb193fb4ddf1",
   "metadata": {},
   "outputs": [],
   "source": [
    "# with recursion\n",
    "def get_factorial_recursive(number):\n",
    "    if number <= 1:\n",
    "        return 1\n",
    "    return number * get_factorial_recursive(number - 1)\n"
   ]
  },
  {
   "cell_type": "code",
   "execution_count": 28,
   "id": "cf433d9c-3bac-4eba-a167-1e14ae1f0d3c",
   "metadata": {},
   "outputs": [
    {
     "data": {
      "text/plain": [
       "720"
      ]
     },
     "execution_count": 28,
     "metadata": {},
     "output_type": "execute_result"
    }
   ],
   "source": [
    "get_factorial_recursive(6)"
   ]
  },
  {
   "cell_type": "code",
   "execution_count": null,
   "id": "e2807e70-1f5a-4430-acc3-9bb106856fbe",
   "metadata": {},
   "outputs": [],
   "source": []
  }
 ],
 "metadata": {
  "kernelspec": {
   "display_name": "Python 3 (ipykernel)",
   "language": "python",
   "name": "python3"
  },
  "language_info": {
   "codemirror_mode": {
    "name": "ipython",
    "version": 3
   },
   "file_extension": ".py",
   "mimetype": "text/x-python",
   "name": "python",
   "nbconvert_exporter": "python",
   "pygments_lexer": "ipython3",
   "version": "3.12.4"
  }
 },
 "nbformat": 4,
 "nbformat_minor": 5
}
