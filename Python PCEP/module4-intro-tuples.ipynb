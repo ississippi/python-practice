{
 "cells": [
  {
   "cell_type": "code",
   "execution_count": 2,
   "id": "09628b60-52ce-4b6b-a153-54bb91a376af",
   "metadata": {},
   "outputs": [],
   "source": [
    "empty_tuple = ()"
   ]
  },
  {
   "cell_type": "code",
   "execution_count": 4,
   "id": "e3830576-62b2-45eb-84ee-fb9a1721adbf",
   "metadata": {},
   "outputs": [],
   "source": [
    "one_el_tuple_a = (1,)"
   ]
  },
  {
   "cell_type": "code",
   "execution_count": 12,
   "id": "722dee9c-18c2-4984-a429-1b77689cf6ac",
   "metadata": {},
   "outputs": [],
   "source": [
    "one_el_tuple_b = 1,"
   ]
  },
  {
   "cell_type": "code",
   "execution_count": 16,
   "id": "184139e3-1d9b-4106-951f-c8bd2e7c8255",
   "metadata": {},
   "outputs": [],
   "source": [
    "three_el_tuple = 1,2,3"
   ]
  },
  {
   "cell_type": "code",
   "execution_count": 18,
   "id": "b7d92460-a809-4351-9fdc-a4717cb4451e",
   "metadata": {},
   "outputs": [
    {
     "name": "stdout",
     "output_type": "stream",
     "text": [
      "(1, 2, 3)\n"
     ]
    }
   ],
   "source": [
    "print(three_el_tuple)"
   ]
  },
  {
   "cell_type": "code",
   "execution_count": 20,
   "id": "16fa59a3-a9af-47a1-b877-263f0c55c4d9",
   "metadata": {},
   "outputs": [
    {
     "name": "stdout",
     "output_type": "stream",
     "text": [
      "(1, 2, 3)\n"
     ]
    }
   ],
   "source": [
    "three_el_tuple = 1,2,3,\n",
    "print(three_el_tuple)"
   ]
  },
  {
   "cell_type": "code",
   "execution_count": 22,
   "id": "3b694947-4d15-4ebc-b9d7-c5909c7ace2b",
   "metadata": {},
   "outputs": [],
   "source": [
    "user_data = ('John', 'American', 1964)"
   ]
  },
  {
   "cell_type": "code",
   "execution_count": 24,
   "id": "48979990-49dd-4fdc-a982-37a6a8d2fbf9",
   "metadata": {},
   "outputs": [],
   "source": [
    "user_data = ('Katya', 'Russian', 1980)"
   ]
  },
  {
   "cell_type": "code",
   "execution_count": null,
   "id": "8b54ae73-d750-43a5-b8ab-ca3e33dd3f6a",
   "metadata": {},
   "outputs": [],
   "source": []
  }
 ],
 "metadata": {
  "kernelspec": {
   "display_name": "Python 3 (ipykernel)",
   "language": "python",
   "name": "python3"
  },
  "language_info": {
   "codemirror_mode": {
    "name": "ipython",
    "version": 3
   },
   "file_extension": ".py",
   "mimetype": "text/x-python",
   "name": "python",
   "nbconvert_exporter": "python",
   "pygments_lexer": "ipython3",
   "version": "3.12.4"
  }
 },
 "nbformat": 4,
 "nbformat_minor": 5
}
