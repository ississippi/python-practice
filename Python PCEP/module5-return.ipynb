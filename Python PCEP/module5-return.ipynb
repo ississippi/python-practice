{
 "cells": [
  {
   "cell_type": "code",
   "execution_count": 4,
   "id": "858ba109-0b5f-41dd-8098-ccbafa3d7e71",
   "metadata": {},
   "outputs": [],
   "source": [
    "def get_average(input_numbers):\n",
    "    sum = 0.0\n",
    "    for number in input_numbers:\n",
    "        sum += number\n",
    "    average = sum / len(input_numbers)\n",
    "    return average"
   ]
  },
  {
   "cell_type": "code",
   "execution_count": 6,
   "id": "2f0ebcbd-a0ac-43c8-a1b3-ea91309b4c0f",
   "metadata": {},
   "outputs": [
    {
     "name": "stdout",
     "output_type": "stream",
     "text": [
      "The avertage is: 7.24\n"
     ]
    }
   ],
   "source": [
    "print('The avertage is:', get_average([5.0, 3.5, 7.8,9.9, 10.0]))"
   ]
  },
  {
   "cell_type": "code",
   "execution_count": 8,
   "id": "2cbf3377-cda4-46e7-8367-3e8324b24dba",
   "metadata": {},
   "outputs": [
    {
     "name": "stdout",
     "output_type": "stream",
     "text": [
      "The average is too high!\n"
     ]
    }
   ],
   "source": [
    "average = get_average([5.0, 3.5, 7.8,9.9, 10.0])\n",
    "if average > 5.0:\n",
    "    print('The average is too high!')"
   ]
  },
  {
   "cell_type": "code",
   "execution_count": 34,
   "id": "2b6b24d4-f17d-48bb-9faa-89f6d9fe5a9d",
   "metadata": {},
   "outputs": [],
   "source": [
    "def is_first_last_equal(number_list):\n",
    "    if len(number_list) == 0:\n",
    "        return\n",
    "    if (number_list[0] == number_list[-1]):\n",
    "        return True\n",
    "    else:\n",
    "        return False\n"
   ]
  },
  {
   "cell_type": "code",
   "execution_count": 36,
   "id": "df9b8914-65d0-4d7e-a15b-08dce87b3f1d",
   "metadata": {},
   "outputs": [
    {
     "name": "stdout",
     "output_type": "stream",
     "text": [
      "True\n"
     ]
    }
   ],
   "source": [
    "print(is_first_last_equal([10,20,30,40,10]))"
   ]
  },
  {
   "cell_type": "code",
   "execution_count": 38,
   "id": "482ef848-6b0d-4104-a8a0-0f8f776923e9",
   "metadata": {},
   "outputs": [
    {
     "name": "stdout",
     "output_type": "stream",
     "text": [
      "False\n"
     ]
    }
   ],
   "source": [
    "print(is_first_last_equal([10,20,30,40,50]))"
   ]
  },
  {
   "cell_type": "code",
   "execution_count": 40,
   "id": "de829ad0-0141-4af8-a959-3acac5294493",
   "metadata": {},
   "outputs": [
    {
     "name": "stdout",
     "output_type": "stream",
     "text": [
      "None\n"
     ]
    }
   ],
   "source": [
    "print(is_first_last_equal([]))"
   ]
  },
  {
   "cell_type": "code",
   "execution_count": null,
   "id": "471b88e8-785b-4dd7-856e-58ac6866a4e6",
   "metadata": {},
   "outputs": [],
   "source": []
  }
 ],
 "metadata": {
  "kernelspec": {
   "display_name": "Python 3 (ipykernel)",
   "language": "python",
   "name": "python3"
  },
  "language_info": {
   "codemirror_mode": {
    "name": "ipython",
    "version": 3
   },
   "file_extension": ".py",
   "mimetype": "text/x-python",
   "name": "python",
   "nbconvert_exporter": "python",
   "pygments_lexer": "ipython3",
   "version": "3.12.4"
  }
 },
 "nbformat": 4,
 "nbformat_minor": 5
}
