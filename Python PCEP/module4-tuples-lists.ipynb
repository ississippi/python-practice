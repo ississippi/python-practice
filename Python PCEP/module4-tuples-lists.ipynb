{
 "cells": [
  {
   "cell_type": "code",
   "execution_count": 2,
   "id": "adc35ef4-f6b4-4d62-ac71-243aec781fb6",
   "metadata": {},
   "outputs": [],
   "source": [
    "city_1 = ('London', 'UK', 8.98)"
   ]
  },
  {
   "cell_type": "code",
   "execution_count": 4,
   "id": "ca9be9b2-a78b-44a3-82cf-125ea23610cc",
   "metadata": {},
   "outputs": [],
   "source": [
    "city_2 = ('Canberra', 'Australia', 0.48)"
   ]
  },
  {
   "cell_type": "code",
   "execution_count": 1,
   "id": "2995a3d0-e0e0-4d88-84dd-6eee21916078",
   "metadata": {},
   "outputs": [],
   "source": [
    "city_3 = ('Algiers', 'Algeria', 3.9)"
   ]
  },
  {
   "cell_type": "code",
   "execution_count": 7,
   "id": "4cb203cb-b7c0-461a-9068-28576f5c5290",
   "metadata": {},
   "outputs": [],
   "source": [
    "capitals = [('London', 'UK', 8.98),('Canberra', 'Australia', 0.48),('Algiers', 'Algeria', 3.9)]"
   ]
  },
  {
   "cell_type": "code",
   "execution_count": 9,
   "id": "885465a2-8375-45b1-a788-a54d90e491ab",
   "metadata": {},
   "outputs": [
    {
     "name": "stdout",
     "output_type": "stream",
     "text": [
      "Name: London , Country: UK , Population: 8.98\n",
      "Name: Canberra , Country: Australia , Population: 0.48\n",
      "Name: Algiers , Country: Algeria , Population: 3.9\n"
     ]
    }
   ],
   "source": [
    "for capital in capitals:\n",
    "    print('Name:', capital[0], ', Country:', capital[1], ', Population:', capital[2])\n"
   ]
  },
  {
   "cell_type": "code",
   "execution_count": 15,
   "id": "f4b69b31-b32b-41bc-a087-ffa6c6ed917b",
   "metadata": {},
   "outputs": [],
   "source": [
    "user_data = ('John', 'America', 1964, [77.0, 78.2, 77.5])"
   ]
  },
  {
   "cell_type": "code",
   "execution_count": 19,
   "id": "4c2afca3-aef9-440b-bcc8-122e13dab660",
   "metadata": {},
   "outputs": [],
   "source": [
    "user_data[3].append(79.6)"
   ]
  },
  {
   "cell_type": "code",
   "execution_count": 21,
   "id": "c7aae026-2a74-4ce4-9764-230b0f8b25d4",
   "metadata": {},
   "outputs": [
    {
     "name": "stdout",
     "output_type": "stream",
     "text": [
      "('John', 'America', 1964, [77.0, 78.2, 77.5, 79.6])\n"
     ]
    }
   ],
   "source": [
    "print(user_data)"
   ]
  },
  {
   "cell_type": "code",
   "execution_count": null,
   "id": "176b9d4c-c090-47a6-9a99-5470c5caa004",
   "metadata": {},
   "outputs": [],
   "source": []
  }
 ],
 "metadata": {
  "kernelspec": {
   "display_name": "Python 3 (ipykernel)",
   "language": "python",
   "name": "python3"
  },
  "language_info": {
   "codemirror_mode": {
    "name": "ipython",
    "version": 3
   },
   "file_extension": ".py",
   "mimetype": "text/x-python",
   "name": "python",
   "nbconvert_exporter": "python",
   "pygments_lexer": "ipython3",
   "version": "3.12.4"
  }
 },
 "nbformat": 4,
 "nbformat_minor": 5
}
