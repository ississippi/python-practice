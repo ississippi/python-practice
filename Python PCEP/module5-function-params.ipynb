{
 "cells": [
  {
   "cell_type": "code",
   "execution_count": 2,
   "id": "303ff08d-68b1-49b5-880e-42c428aa4495",
   "metadata": {},
   "outputs": [],
   "source": [
    "input_numbers = [5.0, 3.5, 7.8,9.9, 10.0]\n",
    "\n",
    "def get_average(input_numbers):\n",
    "    sum = 0.0\n",
    "    for number in input_numbers:\n",
    "        sum += number\n",
    "    average = sum / len(input_numbers)\n",
    "    print(average)"
   ]
  },
  {
   "cell_type": "code",
   "execution_count": 4,
   "id": "1558e50f-95d6-4fac-ae34-67ecb3816055",
   "metadata": {},
   "outputs": [
    {
     "name": "stdout",
     "output_type": "stream",
     "text": [
      "7.24\n"
     ]
    }
   ],
   "source": [
    "get_average([5.0, 3.5, 7.8,9.9, 10.0])"
   ]
  },
  {
   "cell_type": "code",
   "execution_count": 14,
   "id": "f99fc727-d73e-4297-a9a4-4edd03aab26a",
   "metadata": {},
   "outputs": [],
   "source": [
    "def print_letter_count(text, letter):\n",
    "    counter = 0\n",
    "    for char in text:\n",
    "        if char == letter:\n",
    "            counter += 1\n",
    "    print('Number of', letter, 'is', counter)"
   ]
  },
  {
   "cell_type": "code",
   "execution_count": 16,
   "id": "e2a0ab59-edef-478c-ba60-77078e749c3e",
   "metadata": {},
   "outputs": [
    {
     "name": "stdout",
     "output_type": "stream",
     "text": [
      "Number of e is 2\n"
     ]
    }
   ],
   "source": [
    "print_letter_count('Welcome', 'e')"
   ]
  },
  {
   "cell_type": "code",
   "execution_count": 18,
   "id": "66d6c223-a7fb-4502-b257-c3ed338824bb",
   "metadata": {},
   "outputs": [
    {
     "name": "stdout",
     "output_type": "stream",
     "text": [
      "Number of e is 2\n"
     ]
    }
   ],
   "source": [
    "print_letter_count(text='Welcome', letter='e')"
   ]
  },
  {
   "cell_type": "code",
   "execution_count": null,
   "id": "2ea36bf7-053a-4fcd-ae25-265dd9eb02a8",
   "metadata": {},
   "outputs": [],
   "source": []
  }
 ],
 "metadata": {
  "kernelspec": {
   "display_name": "Python 3 (ipykernel)",
   "language": "python",
   "name": "python3"
  },
  "language_info": {
   "codemirror_mode": {
    "name": "ipython",
    "version": 3
   },
   "file_extension": ".py",
   "mimetype": "text/x-python",
   "name": "python",
   "nbconvert_exporter": "python",
   "pygments_lexer": "ipython3",
   "version": "3.12.4"
  }
 },
 "nbformat": 4,
 "nbformat_minor": 5
}
