{
 "cells": [
  {
   "cell_type": "code",
   "execution_count": 1,
   "id": "9fd959b2-c3bd-4850-82b6-df37436dfbe8",
   "metadata": {},
   "outputs": [
    {
     "data": {
      "text/plain": [
       "12000300"
      ]
     },
     "execution_count": 1,
     "metadata": {},
     "output_type": "execute_result"
    }
   ],
   "source": [
    "12000300\n",
    "12_000_300"
   ]
  },
  {
   "cell_type": "code",
   "execution_count": 3,
   "id": "133c06d8-8803-41c6-aea0-2b6ecfe3ffd6",
   "metadata": {},
   "outputs": [
    {
     "name": "stdout",
     "output_type": "stream",
     "text": [
      "3e-28\n"
     ]
    }
   ],
   "source": [
    "#scientific notation\n",
    "print(0.0000000000000000000000000003)"
   ]
  },
  {
   "cell_type": "code",
   "execution_count": 7,
   "id": "b6f18a12-d487-4dbe-bced-156d60ec5838",
   "metadata": {},
   "outputs": [
    {
     "name": "stdout",
     "output_type": "stream",
     "text": [
      "0.0003\n"
     ]
    }
   ],
   "source": [
    "print(0.0003)"
   ]
  },
  {
   "cell_type": "code",
   "execution_count": 9,
   "id": "d4f8931b-82f7-4a2d-9be0-ebb6a42bae08",
   "metadata": {},
   "outputs": [
    {
     "name": "stdout",
     "output_type": "stream",
     "text": [
      "83\n"
     ]
    }
   ],
   "source": [
    "print(0o123)"
   ]
  },
  {
   "cell_type": "code",
   "execution_count": 11,
   "id": "7799bc57-5169-43d2-8ca2-5bbcda8864ed",
   "metadata": {},
   "outputs": [
    {
     "name": "stdout",
     "output_type": "stream",
     "text": [
      "291\n"
     ]
    }
   ],
   "source": [
    "print(0x123)"
   ]
  },
  {
   "cell_type": "code",
   "execution_count": null,
   "id": "a3d2e93d-6563-4e4d-8c7f-e0e42a7fa4f9",
   "metadata": {},
   "outputs": [],
   "source": []
  }
 ],
 "metadata": {
  "kernelspec": {
   "display_name": "Python 3 (ipykernel)",
   "language": "python",
   "name": "python3"
  },
  "language_info": {
   "codemirror_mode": {
    "name": "ipython",
    "version": 3
   },
   "file_extension": ".py",
   "mimetype": "text/x-python",
   "name": "python",
   "nbconvert_exporter": "python",
   "pygments_lexer": "ipython3",
   "version": "3.12.4"
  }
 },
 "nbformat": 4,
 "nbformat_minor": 5
}
