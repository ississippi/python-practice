{
 "cells": [
  {
   "cell_type": "code",
   "execution_count": 4,
   "id": "0053a4c3-2e3f-4b48-9992-0e03ee408196",
   "metadata": {},
   "outputs": [
    {
     "name": "stdout",
     "output_type": "stream",
     "text": [
      "D\n"
     ]
    }
   ],
   "source": [
    "fav_band = 'Green Day'\n",
    "print(fav_band[6])"
   ]
  },
  {
   "cell_type": "code",
   "execution_count": 6,
   "id": "a7589574-5aaa-4164-8be6-6d9d168ad054",
   "metadata": {},
   "outputs": [
    {
     "name": "stdout",
     "output_type": "stream",
     "text": [
      "Green \n"
     ]
    }
   ],
   "source": [
    "print(fav_band[:6])"
   ]
  },
  {
   "cell_type": "code",
   "execution_count": 8,
   "id": "8a994783-d268-4ca5-be65-c647e281550d",
   "metadata": {},
   "outputs": [
    {
     "ename": "TypeError",
     "evalue": "'str' object does not support item assignment",
     "output_type": "error",
     "traceback": [
      "\u001b[1;31m---------------------------------------------------------------------------\u001b[0m",
      "\u001b[1;31mTypeError\u001b[0m                                 Traceback (most recent call last)",
      "Cell \u001b[1;32mIn[8], line 1\u001b[0m\n\u001b[1;32m----> 1\u001b[0m fav_band[\u001b[38;5;241m6\u001b[39m] \u001b[38;5;241m=\u001b[39m \u001b[38;5;124m'\u001b[39m\u001b[38;5;124mM\u001b[39m\u001b[38;5;124m'\u001b[39m\n",
      "\u001b[1;31mTypeError\u001b[0m: 'str' object does not support item assignment"
     ]
    }
   ],
   "source": [
    "fav_band[6] = 'M'"
   ]
  },
  {
   "cell_type": "code",
   "execution_count": 12,
   "id": "22918b90-9ad9-4013-9407-a7f79e08c827",
   "metadata": {},
   "outputs": [
    {
     "name": "stdout",
     "output_type": "stream",
     "text": [
      "PLEASE CAPITALIZE ME\n"
     ]
    }
   ],
   "source": [
    "text = 'please capitalize me'\n",
    "text_cap = text.upper()\n",
    "print(text_cap)"
   ]
  },
  {
   "cell_type": "code",
   "execution_count": 20,
   "id": "bfa74f20-0c48-42c3-81aa-c53c9a5b31f1",
   "metadata": {},
   "outputs": [
    {
     "name": "stdin",
     "output_type": "stream",
     "text": [
      "Please enter a number: g\n"
     ]
    },
    {
     "name": "stdout",
     "output_type": "stream",
     "text": [
      "g is NOT a number.\n"
     ]
    }
   ],
   "source": [
    "user_number = input('Please enter a number:')\n",
    "if user_number.isnumeric():\n",
    "    print(str(user_number), 'is a number.')\n",
    "else:\n",
    "    print(user_number, 'is NOT a number.')\n"
   ]
  },
  {
   "cell_type": "code",
   "execution_count": null,
   "id": "24879c10-2bc3-411b-9e92-ad7eb6cab5a9",
   "metadata": {},
   "outputs": [],
   "source": []
  }
 ],
 "metadata": {
  "kernelspec": {
   "display_name": "Python 3 (ipykernel)",
   "language": "python",
   "name": "python3"
  },
  "language_info": {
   "codemirror_mode": {
    "name": "ipython",
    "version": 3
   },
   "file_extension": ".py",
   "mimetype": "text/x-python",
   "name": "python",
   "nbconvert_exporter": "python",
   "pygments_lexer": "ipython3",
   "version": "3.12.4"
  }
 },
 "nbformat": 4,
 "nbformat_minor": 5
}
